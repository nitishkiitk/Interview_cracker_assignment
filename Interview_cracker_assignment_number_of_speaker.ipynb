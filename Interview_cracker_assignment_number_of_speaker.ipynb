{
  "nbformat": 4,
  "nbformat_minor": 0,
  "metadata": {
    "colab": {
      "name": "Interview_cracker_assignment.ipynb",
      "provenance": []
    },
    "kernelspec": {
      "name": "python3",
      "display_name": "Python 3"
    },
    "language_info": {
      "name": "python"
    }
  },
  "cells": [
    {
      "cell_type": "code",
      "metadata": {
        "colab": {
          "base_uri": "https://localhost:8080/"
        },
        "id": "FjkjtqZVnuF5",
        "outputId": "21517622-9126-42ee-d3c6-db186f1d166a"
      },
      "source": [
        "from google.colab import drive\n",
        "drive.mount('/content/drive')"
      ],
      "execution_count": 2,
      "outputs": [
        {
          "output_type": "stream",
          "name": "stdout",
          "text": [
            "Drive already mounted at /content/drive; to attempt to forcibly remount, call drive.mount(\"/content/drive\", force_remount=True).\n"
          ]
        }
      ]
    },
    {
      "cell_type": "code",
      "metadata": {
        "id": "XVqeXUXTUF4k"
      },
      "source": [
        "import IPython.display as ipd\n",
        "# % pylab inline\n",
        "import os\n",
        "import pandas as pd\n",
        "import librosa\n",
        "import glob \n",
        "import librosa.display\n",
        "import random\n",
        "\n",
        "from sklearn.preprocessing import StandardScaler\n",
        "from sklearn.model_selection import train_test_split\n",
        "\n",
        "from keras.utils.np_utils import to_categorical\n",
        "\n",
        "import numpy as np\n",
        "from keras.models import Sequential\n",
        "from keras.layers import Dense, Dropout, Activation, Flatten\n",
        "from keras.layers import Convolution2D, MaxPooling2D\n",
        "from tensorflow.keras.optimizers import Adam  # \"from keras.optimizers import Adam\" don't work so i have to import it like \"from tensorflow.keras.optimizers import Adam\"\n",
        "from keras.utils import np_utils\n",
        "from sklearn import metrics \n",
        "\n",
        "from sklearn.datasets import make_regression\n",
        "from sklearn.preprocessing import StandardScaler\n",
        "from sklearn import metrics\n",
        "from sklearn.model_selection import train_test_split, GridSearchCV\n",
        "\n",
        "from tensorflow.keras.models import Sequential\n",
        "from tensorflow.keras.layers import Dense, Dropout \n",
        "from tensorflow.keras.wrappers.scikit_learn import KerasRegressor\n",
        "\n",
        "from keras.callbacks import EarlyStopping\n",
        "\n",
        "from keras import regularizers\n",
        "\n",
        "from sklearn.preprocessing import LabelEncoder\n",
        "\n",
        "from datetime import datetime\n",
        "\n",
        "import os"
      ],
      "execution_count": 3,
      "outputs": []
    },
    {
      "cell_type": "code",
      "metadata": {
        "id": "bvZnfWesfaVE"
      },
      "source": [
        "#list the files\n",
        "filelist = os.listdir('drive/MyDrive/interview_cracker/male') \n",
        "#read them into pandas\n",
        "df_male = pd.DataFrame(filelist)"
      ],
      "execution_count": 4,
      "outputs": []
    },
    {
      "cell_type": "code",
      "metadata": {
        "id": "PVSTqrFvc2xp"
      },
      "source": [
        "# Adding the 1 label to the dataframe representing male\n",
        "df_male['label']='1'\n"
      ],
      "execution_count": 5,
      "outputs": []
    },
    {
      "cell_type": "code",
      "metadata": {
        "id": "3O68LF9QeKGH"
      },
      "source": [
        "# Renaming the column name to file\n",
        "df_male = df_male.rename(columns={0:'file'})"
      ],
      "execution_count": 6,
      "outputs": []
    },
    {
      "cell_type": "code",
      "metadata": {
        "id": "jk30_Nv3gtiP",
        "colab": {
          "base_uri": "https://localhost:8080/",
          "height": 204
        },
        "outputId": "c884a964-4c52-4dbf-a9b8-7b6c35ae0f50"
      },
      "source": [
        "df_male.head()"
      ],
      "execution_count": 7,
      "outputs": [
        {
          "output_type": "execute_result",
          "data": {
            "text/html": [
              "<div>\n",
              "<style scoped>\n",
              "    .dataframe tbody tr th:only-of-type {\n",
              "        vertical-align: middle;\n",
              "    }\n",
              "\n",
              "    .dataframe tbody tr th {\n",
              "        vertical-align: top;\n",
              "    }\n",
              "\n",
              "    .dataframe thead th {\n",
              "        text-align: right;\n",
              "    }\n",
              "</style>\n",
              "<table border=\"1\" class=\"dataframe\">\n",
              "  <thead>\n",
              "    <tr style=\"text-align: right;\">\n",
              "      <th></th>\n",
              "      <th>file</th>\n",
              "      <th>label</th>\n",
              "    </tr>\n",
              "  </thead>\n",
              "  <tbody>\n",
              "    <tr>\n",
              "      <th>0</th>\n",
              "      <td>8842-302201-0004.flac</td>\n",
              "      <td>1</td>\n",
              "    </tr>\n",
              "    <tr>\n",
              "      <th>1</th>\n",
              "      <td>8842-302201-0009.flac</td>\n",
              "      <td>1</td>\n",
              "    </tr>\n",
              "    <tr>\n",
              "      <th>2</th>\n",
              "      <td>8842-302201-0007.flac</td>\n",
              "      <td>1</td>\n",
              "    </tr>\n",
              "    <tr>\n",
              "      <th>3</th>\n",
              "      <td>8842-302196-0009.flac</td>\n",
              "      <td>1</td>\n",
              "    </tr>\n",
              "    <tr>\n",
              "      <th>4</th>\n",
              "      <td>8842-302196-0005.flac</td>\n",
              "      <td>1</td>\n",
              "    </tr>\n",
              "  </tbody>\n",
              "</table>\n",
              "</div>"
            ],
            "text/plain": [
              "                    file label\n",
              "0  8842-302201-0004.flac     1\n",
              "1  8842-302201-0009.flac     1\n",
              "2  8842-302201-0007.flac     1\n",
              "3  8842-302196-0009.flac     1\n",
              "4  8842-302196-0005.flac     1"
            ]
          },
          "metadata": {},
          "execution_count": 7
        }
      ]
    },
    {
      "cell_type": "code",
      "metadata": {
        "colab": {
          "base_uri": "https://localhost:8080/",
          "height": 49
        },
        "id": "ZczsPmMIIPI5",
        "outputId": "754e0fa4-c537-4f5f-92b9-a2f2e6bda1e2"
      },
      "source": [
        "\n",
        "# Checking for a file that gets automatically generated and we need to drop \n",
        "df_male[df_male['file']=='.DS_Store']"
      ],
      "execution_count": 8,
      "outputs": [
        {
          "output_type": "execute_result",
          "data": {
            "text/html": [
              "<div>\n",
              "<style scoped>\n",
              "    .dataframe tbody tr th:only-of-type {\n",
              "        vertical-align: middle;\n",
              "    }\n",
              "\n",
              "    .dataframe tbody tr th {\n",
              "        vertical-align: top;\n",
              "    }\n",
              "\n",
              "    .dataframe thead th {\n",
              "        text-align: right;\n",
              "    }\n",
              "</style>\n",
              "<table border=\"1\" class=\"dataframe\">\n",
              "  <thead>\n",
              "    <tr style=\"text-align: right;\">\n",
              "      <th></th>\n",
              "      <th>file</th>\n",
              "      <th>label</th>\n",
              "    </tr>\n",
              "  </thead>\n",
              "  <tbody>\n",
              "  </tbody>\n",
              "</table>\n",
              "</div>"
            ],
            "text/plain": [
              "Empty DataFrame\n",
              "Columns: [file, label]\n",
              "Index: []"
            ]
          },
          "metadata": {},
          "execution_count": 8
        }
      ]
    },
    {
      "cell_type": "markdown",
      "metadata": {
        "id": "GOWqI_GMIZ0Q"
      },
      "source": [
        "**Doing same thing for female folder**"
      ]
    },
    {
      "cell_type": "code",
      "metadata": {
        "id": "cmMmE3LSIWV3"
      },
      "source": [
        "filelist1 = os.listdir('drive/MyDrive/interview_cracker/female') \n",
        "#read them into pandas\n",
        "df_female = pd.DataFrame(filelist1)"
      ],
      "execution_count": 9,
      "outputs": []
    },
    {
      "cell_type": "code",
      "metadata": {
        "id": "56Q830eKIrXX"
      },
      "source": [
        "df_female['label']='0'"
      ],
      "execution_count": 10,
      "outputs": []
    },
    {
      "cell_type": "code",
      "metadata": {
        "id": "OnmI7ou-IuY7"
      },
      "source": [
        "df_female = df_female.rename(columns={0:'file'})"
      ],
      "execution_count": 11,
      "outputs": []
    },
    {
      "cell_type": "code",
      "metadata": {
        "colab": {
          "base_uri": "https://localhost:8080/",
          "height": 204
        },
        "id": "RsY_-zx-Iw17",
        "outputId": "50fa0313-052f-4ec4-eea6-1929ce2143b6"
      },
      "source": [
        "df_female.head()\n"
      ],
      "execution_count": 12,
      "outputs": [
        {
          "output_type": "execute_result",
          "data": {
            "text/html": [
              "<div>\n",
              "<style scoped>\n",
              "    .dataframe tbody tr th:only-of-type {\n",
              "        vertical-align: middle;\n",
              "    }\n",
              "\n",
              "    .dataframe tbody tr th {\n",
              "        vertical-align: top;\n",
              "    }\n",
              "\n",
              "    .dataframe thead th {\n",
              "        text-align: right;\n",
              "    }\n",
              "</style>\n",
              "<table border=\"1\" class=\"dataframe\">\n",
              "  <thead>\n",
              "    <tr style=\"text-align: right;\">\n",
              "      <th></th>\n",
              "      <th>file</th>\n",
              "      <th>label</th>\n",
              "    </tr>\n",
              "  </thead>\n",
              "  <tbody>\n",
              "    <tr>\n",
              "      <th>0</th>\n",
              "      <td>8297-275156-0007.flac</td>\n",
              "      <td>0</td>\n",
              "    </tr>\n",
              "    <tr>\n",
              "      <th>1</th>\n",
              "      <td>8297-275156-0001.flac</td>\n",
              "      <td>0</td>\n",
              "    </tr>\n",
              "    <tr>\n",
              "      <th>2</th>\n",
              "      <td>8297-275156-0002.flac</td>\n",
              "      <td>0</td>\n",
              "    </tr>\n",
              "    <tr>\n",
              "      <th>3</th>\n",
              "      <td>8297-275156-0013.flac</td>\n",
              "      <td>0</td>\n",
              "    </tr>\n",
              "    <tr>\n",
              "      <th>4</th>\n",
              "      <td>8297-275156-0008.flac</td>\n",
              "      <td>0</td>\n",
              "    </tr>\n",
              "  </tbody>\n",
              "</table>\n",
              "</div>"
            ],
            "text/plain": [
              "                    file label\n",
              "0  8297-275156-0007.flac     0\n",
              "1  8297-275156-0001.flac     0\n",
              "2  8297-275156-0002.flac     0\n",
              "3  8297-275156-0013.flac     0\n",
              "4  8297-275156-0008.flac     0"
            ]
          },
          "metadata": {},
          "execution_count": 12
        }
      ]
    },
    {
      "cell_type": "code",
      "metadata": {
        "colab": {
          "base_uri": "https://localhost:8080/",
          "height": 49
        },
        "id": "BRJ04egsI0An",
        "outputId": "648d3bb9-ee8e-43b6-a1c9-9f0ea5ef8db4"
      },
      "source": [
        "# Checking for a file that gets automatically generated and we need to drop \n",
        "df_female[df_female['file']=='.DS_Store']"
      ],
      "execution_count": 13,
      "outputs": [
        {
          "output_type": "execute_result",
          "data": {
            "text/html": [
              "<div>\n",
              "<style scoped>\n",
              "    .dataframe tbody tr th:only-of-type {\n",
              "        vertical-align: middle;\n",
              "    }\n",
              "\n",
              "    .dataframe tbody tr th {\n",
              "        vertical-align: top;\n",
              "    }\n",
              "\n",
              "    .dataframe thead th {\n",
              "        text-align: right;\n",
              "    }\n",
              "</style>\n",
              "<table border=\"1\" class=\"dataframe\">\n",
              "  <thead>\n",
              "    <tr style=\"text-align: right;\">\n",
              "      <th></th>\n",
              "      <th>file</th>\n",
              "      <th>label</th>\n",
              "    </tr>\n",
              "  </thead>\n",
              "  <tbody>\n",
              "  </tbody>\n",
              "</table>\n",
              "</div>"
            ],
            "text/plain": [
              "Empty DataFrame\n",
              "Columns: [file, label]\n",
              "Index: []"
            ]
          },
          "metadata": {},
          "execution_count": 13
        }
      ]
    },
    {
      "cell_type": "markdown",
      "metadata": {
        "id": "tOmcPolVJKLz"
      },
      "source": [
        "**Now concate both folder**"
      ]
    },
    {
      "cell_type": "code",
      "metadata": {
        "id": "W_5Gv4KEI3Ic"
      },
      "source": [
        "\n",
        "df = pd.concat([df_female, df_male], ignore_index=True)"
      ],
      "execution_count": 14,
      "outputs": []
    },
    {
      "cell_type": "code",
      "metadata": {
        "colab": {
          "base_uri": "https://localhost:8080/",
          "height": 204
        },
        "id": "9s9DXr8PJPEB",
        "outputId": "45921291-e2cb-4f65-9e21-81017e3fc3b5"
      },
      "source": [
        "df.head()"
      ],
      "execution_count": 15,
      "outputs": [
        {
          "output_type": "execute_result",
          "data": {
            "text/html": [
              "<div>\n",
              "<style scoped>\n",
              "    .dataframe tbody tr th:only-of-type {\n",
              "        vertical-align: middle;\n",
              "    }\n",
              "\n",
              "    .dataframe tbody tr th {\n",
              "        vertical-align: top;\n",
              "    }\n",
              "\n",
              "    .dataframe thead th {\n",
              "        text-align: right;\n",
              "    }\n",
              "</style>\n",
              "<table border=\"1\" class=\"dataframe\">\n",
              "  <thead>\n",
              "    <tr style=\"text-align: right;\">\n",
              "      <th></th>\n",
              "      <th>file</th>\n",
              "      <th>label</th>\n",
              "    </tr>\n",
              "  </thead>\n",
              "  <tbody>\n",
              "    <tr>\n",
              "      <th>0</th>\n",
              "      <td>8297-275156-0007.flac</td>\n",
              "      <td>0</td>\n",
              "    </tr>\n",
              "    <tr>\n",
              "      <th>1</th>\n",
              "      <td>8297-275156-0001.flac</td>\n",
              "      <td>0</td>\n",
              "    </tr>\n",
              "    <tr>\n",
              "      <th>2</th>\n",
              "      <td>8297-275156-0002.flac</td>\n",
              "      <td>0</td>\n",
              "    </tr>\n",
              "    <tr>\n",
              "      <th>3</th>\n",
              "      <td>8297-275156-0013.flac</td>\n",
              "      <td>0</td>\n",
              "    </tr>\n",
              "    <tr>\n",
              "      <th>4</th>\n",
              "      <td>8297-275156-0008.flac</td>\n",
              "      <td>0</td>\n",
              "    </tr>\n",
              "  </tbody>\n",
              "</table>\n",
              "</div>"
            ],
            "text/plain": [
              "                    file label\n",
              "0  8297-275156-0007.flac     0\n",
              "1  8297-275156-0001.flac     0\n",
              "2  8297-275156-0002.flac     0\n",
              "3  8297-275156-0013.flac     0\n",
              "4  8297-275156-0008.flac     0"
            ]
          },
          "metadata": {},
          "execution_count": 15
        }
      ]
    },
    {
      "cell_type": "markdown",
      "metadata": {
        "id": "m8JNumtJJ3bU"
      },
      "source": [
        "**Dividing approx 70% file as train, approx 20% for validation and 10% for test**"
      ]
    },
    {
      "cell_type": "code",
      "metadata": {
        "id": "3_7DGDRnJTQV"
      },
      "source": [
        "df_train = df[:95]"
      ],
      "execution_count": 16,
      "outputs": []
    },
    {
      "cell_type": "code",
      "metadata": {
        "colab": {
          "base_uri": "https://localhost:8080/"
        },
        "id": "ZGHnqyj9JjV9",
        "outputId": "b98b8016-6161-463b-bfcd-f550fb5c4b01"
      },
      "source": [
        "df_train['label'].value_counts(normalize=True)"
      ],
      "execution_count": 17,
      "outputs": [
        {
          "output_type": "execute_result",
          "data": {
            "text/plain": [
              "1    0.724638\n",
              "0    0.275362\n",
              "Name: label, dtype: float64"
            ]
          },
          "metadata": {},
          "execution_count": 17
        }
      ]
    },
    {
      "cell_type": "code",
      "metadata": {
        "id": "PooPwet6KMbB"
      },
      "source": [
        "df_validation = df[95:122]"
      ],
      "execution_count": 18,
      "outputs": []
    },
    {
      "cell_type": "code",
      "metadata": {
        "colab": {
          "base_uri": "https://localhost:8080/"
        },
        "id": "DyOooV42KSQK",
        "outputId": "95c3e126-53f9-46de-ee94-cc0c4cdb6558"
      },
      "source": [
        "df_validation['label'].value_counts(normalize=True)"
      ],
      "execution_count": 19,
      "outputs": [
        {
          "output_type": "execute_result",
          "data": {
            "text/plain": [
              "Series([], Name: label, dtype: float64)"
            ]
          },
          "metadata": {},
          "execution_count": 19
        }
      ]
    },
    {
      "cell_type": "code",
      "metadata": {
        "id": "0exkVgPQKUhF"
      },
      "source": [
        "df_test = df[122:]"
      ],
      "execution_count": 20,
      "outputs": []
    },
    {
      "cell_type": "code",
      "metadata": {
        "colab": {
          "base_uri": "https://localhost:8080/"
        },
        "id": "ryVrruHaKZ9l",
        "outputId": "e59688fc-ad08-45fd-b7ca-e53d9dadc58b"
      },
      "source": [
        "df_test['label'].value_counts(normalize=True)"
      ],
      "execution_count": 21,
      "outputs": [
        {
          "output_type": "execute_result",
          "data": {
            "text/plain": [
              "Series([], Name: label, dtype: float64)"
            ]
          },
          "metadata": {},
          "execution_count": 21
        }
      ]
    },
    {
      "cell_type": "markdown",
      "metadata": {
        "id": "APD8I8w5KrFD"
      },
      "source": [
        "**Function to extract the features and label for each sound file by iterating through every row of the dataframe**"
      ]
    },
    {
      "cell_type": "code",
      "metadata": {
        "colab": {
          "base_uri": "https://localhost:8080/"
        },
        "id": "JrIhtUdSPpx7",
        "outputId": "a0e83cea-b123-453f-c6b8-ac9aed32753d"
      },
      "source": [
        "df.size"
      ],
      "execution_count": 22,
      "outputs": [
        {
          "output_type": "execute_result",
          "data": {
            "text/plain": [
              "138"
            ]
          },
          "metadata": {},
          "execution_count": 22
        }
      ]
    },
    {
      "cell_type": "code",
      "metadata": {
        "id": "kSvMQUmUKeKn"
      },
      "source": [
        "# Although this function was modified and many parameteres were explored with, most of it\n",
        "# came from Source 8 (sources in the READ.ME)\n",
        "\n",
        "def extract_features(files):\n",
        "    \n",
        "    # Sets the name to be the path to where the file is in my computer\n",
        "    file_name = os.path.join(os.path.abspath('drive/MyDrive/interview_cracker/whole')+'/'+str(files.file))\n",
        "\n",
        "    # Loads the audio file as a floating point time series and assigns the default sample rate\n",
        "    # Sample rate is set to 22050 by default\n",
        "    X, sample_rate = librosa.load(file_name, res_type='kaiser_fast') \n",
        "\n",
        "    # Generate Mel-frequency cepstral coefficients (MFCCs) from a time series \n",
        "    mfccs = np.mean(librosa.feature.mfcc(y=X, sr=sample_rate, n_mfcc=40).T,axis=0)\n",
        "\n",
        "    # Generates a Short-time Fourier transform (STFT) to use in the chroma_stft\n",
        "    stft = np.abs(librosa.stft(X))\n",
        "\n",
        "    # Computes a chromagram from a waveform or power spectrogram.\n",
        "    chroma = np.mean(librosa.feature.chroma_stft(S=stft, sr=sample_rate).T,axis=0)\n",
        "\n",
        "    # Computes a mel-scaled spectrogram.\n",
        "    mel = np.mean(librosa.feature.melspectrogram(X, sr=sample_rate).T,axis=0)\n",
        "\n",
        "    # Computes spectral contrast\n",
        "    contrast = np.mean(librosa.feature.spectral_contrast(S=stft, sr=sample_rate).T,axis=0)\n",
        "\n",
        "    # Computes the tonal centroid features (tonnetz)\n",
        "    tonnetz = np.mean(librosa.feature.tonnetz(y=librosa.effects.harmonic(X),\n",
        "    sr=sample_rate).T,axis=0)\n",
        "        \n",
        "    \n",
        "    # We add also the classes of each file as a label at the end\n",
        "    label = files.label\n",
        "\n",
        "    return mfccs, chroma, mel, contrast, tonnetz, label"
      ],
      "execution_count": 23,
      "outputs": []
    },
    {
      "cell_type": "code",
      "metadata": {
        "id": "h1pgUSwkK3dY"
      },
      "source": [
        "# Code to start the timer to see how long it takes to extract the features\n",
        "startTime = datetime.now()"
      ],
      "execution_count": 24,
      "outputs": []
    },
    {
      "cell_type": "code",
      "metadata": {
        "colab": {
          "base_uri": "https://localhost:8080/"
        },
        "id": "BAqzjnUHK75w",
        "outputId": "beefa431-f98d-4dd9-cd15-e7937386b682"
      },
      "source": [
        "\n",
        "# Applying the function to the train data by accessing each row of the dataframe\n",
        "features_label = df.apply(extract_features, axis=1)"
      ],
      "execution_count": 25,
      "outputs": [
        {
          "output_type": "stream",
          "name": "stderr",
          "text": [
            "/usr/local/lib/python3.7/dist-packages/librosa/core/spectrum.py:224: UserWarning: n_fft=1024 is too small for input signal of length=853\n",
            "  n_fft, y.shape[-1]\n",
            "/usr/local/lib/python3.7/dist-packages/librosa/core/spectrum.py:224: UserWarning: n_fft=1024 is too small for input signal of length=597\n",
            "  n_fft, y.shape[-1]\n",
            "/usr/local/lib/python3.7/dist-packages/librosa/core/spectrum.py:224: UserWarning: n_fft=1024 is too small for input signal of length=765\n",
            "  n_fft, y.shape[-1]\n",
            "/usr/local/lib/python3.7/dist-packages/librosa/core/spectrum.py:224: UserWarning: n_fft=1024 is too small for input signal of length=931\n",
            "  n_fft, y.shape[-1]\n"
          ]
        }
      ]
    },
    {
      "cell_type": "code",
      "metadata": {
        "id": "Va11-9LtLARs",
        "colab": {
          "base_uri": "https://localhost:8080/"
        },
        "outputId": "76d3dde3-741b-490e-ed00-35e5713c6cd1"
      },
      "source": [
        "# Code to see how long it took\n",
        "print(datetime.now() - startTime)"
      ],
      "execution_count": 26,
      "outputs": [
        {
          "output_type": "stream",
          "name": "stdout",
          "text": [
            "0:01:26.895094\n"
          ]
        }
      ]
    },
    {
      "cell_type": "code",
      "metadata": {
        "colab": {
          "base_uri": "https://localhost:8080/"
        },
        "id": "JAylvWc1RPjz",
        "outputId": "3b724290-ab1f-480b-f89a-2aab22849f1b"
      },
      "source": [
        "# Checking how the output looks\n",
        "features_label"
      ],
      "execution_count": 27,
      "outputs": [
        {
          "output_type": "execute_result",
          "data": {
            "text/plain": [
              "0     ([-334.05945, 109.49289, -28.287344, 47.812187...\n",
              "1     ([-345.315, 107.45816, -17.925451, 36.806644, ...\n",
              "2     ([-340.062, 108.6981, -16.715584, 40.13201, -1...\n",
              "3     ([-325.4779, 130.2642, -19.76352, 40.792877, -...\n",
              "4     ([-360.77695, 126.58335, -11.7097, 33.6185, -1...\n",
              "                            ...                        \n",
              "64    ([-353.22678, 110.91761, -45.825043, 29.917164...\n",
              "65    ([-402.26685, 111.84585, -37.14864, 20.815756,...\n",
              "66    ([-342.57373, 121.6945, -43.526638, 32.307713,...\n",
              "67    ([-424.49646, 104.72611, -30.974213, 21.364588...\n",
              "68    ([-406.85092, 94.36623, -41.766384, 29.625416,...\n",
              "Length: 69, dtype: object"
            ]
          },
          "metadata": {},
          "execution_count": 27
        }
      ]
    },
    {
      "cell_type": "code",
      "metadata": {
        "id": "k2tu0addRUdu"
      },
      "source": [
        "# We create an empty list where we will concatenate all the features into one long feature\n",
        "# for each file to feed into our neural network \n",
        "\n",
        "features = []\n",
        "for i in range(0, len(features_label)):\n",
        "    features.append(np.concatenate((features_label[i][0], features_label[i][1], \n",
        "                features_label[i][2], features_label[i][3],\n",
        "                features_label[i][4]), axis=0))"
      ],
      "execution_count": 28,
      "outputs": []
    },
    {
      "cell_type": "code",
      "metadata": {
        "colab": {
          "base_uri": "https://localhost:8080/"
        },
        "id": "uxd_MVHXRaZ3",
        "outputId": "33e28d01-9d76-4241-b6f5-9aaf43fac8f3"
      },
      "source": [
        "len(features)"
      ],
      "execution_count": 29,
      "outputs": [
        {
          "output_type": "execute_result",
          "data": {
            "text/plain": [
              "69"
            ]
          },
          "metadata": {},
          "execution_count": 29
        }
      ]
    },
    {
      "cell_type": "markdown",
      "metadata": {
        "id": "6j4iNm6kRjgg"
      },
      "source": [
        "**We will add the speaker id to our dataframe to have that as the label for our model and predict speakers from their voice**"
      ]
    },
    {
      "cell_type": "code",
      "metadata": {
        "id": "JTsc1vYTRd0f"
      },
      "source": [
        "# We create an empty list where we will append all the speakers ids for each row of our\n",
        "# dataframe by slicing the file name since we know the id is the first numbers before the hash\n",
        "speaker = []\n",
        "for i in range(0, len(df)):\n",
        "    speaker.append(df['file'][i].split('-')[0])"
      ],
      "execution_count": 30,
      "outputs": []
    },
    {
      "cell_type": "code",
      "metadata": {
        "id": "UlOoQLd7RwHt"
      },
      "source": [
        "# Now we create the speaker column in our dataframe and set it equal to our speaker list\n",
        "df['speaker'] = speaker"
      ],
      "execution_count": 31,
      "outputs": []
    },
    {
      "cell_type": "code",
      "metadata": {
        "colab": {
          "base_uri": "https://localhost:8080/",
          "height": 204
        },
        "id": "i6AvqS_jRzH6",
        "outputId": "38fb286a-f766-4386-8127-90adbab4cbad"
      },
      "source": [
        "\n",
        "# Checking that it worked as expected\n",
        "df.head()"
      ],
      "execution_count": 32,
      "outputs": [
        {
          "output_type": "execute_result",
          "data": {
            "text/html": [
              "<div>\n",
              "<style scoped>\n",
              "    .dataframe tbody tr th:only-of-type {\n",
              "        vertical-align: middle;\n",
              "    }\n",
              "\n",
              "    .dataframe tbody tr th {\n",
              "        vertical-align: top;\n",
              "    }\n",
              "\n",
              "    .dataframe thead th {\n",
              "        text-align: right;\n",
              "    }\n",
              "</style>\n",
              "<table border=\"1\" class=\"dataframe\">\n",
              "  <thead>\n",
              "    <tr style=\"text-align: right;\">\n",
              "      <th></th>\n",
              "      <th>file</th>\n",
              "      <th>label</th>\n",
              "      <th>speaker</th>\n",
              "    </tr>\n",
              "  </thead>\n",
              "  <tbody>\n",
              "    <tr>\n",
              "      <th>0</th>\n",
              "      <td>8297-275156-0007.flac</td>\n",
              "      <td>0</td>\n",
              "      <td>8297</td>\n",
              "    </tr>\n",
              "    <tr>\n",
              "      <th>1</th>\n",
              "      <td>8297-275156-0001.flac</td>\n",
              "      <td>0</td>\n",
              "      <td>8297</td>\n",
              "    </tr>\n",
              "    <tr>\n",
              "      <th>2</th>\n",
              "      <td>8297-275156-0002.flac</td>\n",
              "      <td>0</td>\n",
              "      <td>8297</td>\n",
              "    </tr>\n",
              "    <tr>\n",
              "      <th>3</th>\n",
              "      <td>8297-275156-0013.flac</td>\n",
              "      <td>0</td>\n",
              "      <td>8297</td>\n",
              "    </tr>\n",
              "    <tr>\n",
              "      <th>4</th>\n",
              "      <td>8297-275156-0008.flac</td>\n",
              "      <td>0</td>\n",
              "      <td>8297</td>\n",
              "    </tr>\n",
              "  </tbody>\n",
              "</table>\n",
              "</div>"
            ],
            "text/plain": [
              "                    file label speaker\n",
              "0  8297-275156-0007.flac     0    8297\n",
              "1  8297-275156-0001.flac     0    8297\n",
              "2  8297-275156-0002.flac     0    8297\n",
              "3  8297-275156-0013.flac     0    8297\n",
              "4  8297-275156-0008.flac     0    8297"
            ]
          },
          "metadata": {},
          "execution_count": 32
        }
      ]
    },
    {
      "cell_type": "code",
      "metadata": {
        "colab": {
          "base_uri": "https://localhost:8080/"
        },
        "id": "opobtah-R2Ah",
        "outputId": "32da6986-8f20-43c7-c6f6-ed866da5ef5d"
      },
      "source": [
        "# Checking the number of speakers or the number of different people in our voice data\n",
        "df['speaker'].nunique()"
      ],
      "execution_count": 33,
      "outputs": [
        {
          "output_type": "execute_result",
          "data": {
            "text/plain": [
              "2"
            ]
          },
          "metadata": {},
          "execution_count": 33
        }
      ]
    },
    {
      "cell_type": "code",
      "metadata": {
        "id": "RzChokdqR6-q"
      },
      "source": [
        "# Setting our labels to be equal to our speaker list\n",
        "labels = speaker"
      ],
      "execution_count": 34,
      "outputs": []
    },
    {
      "cell_type": "code",
      "metadata": {
        "colab": {
          "base_uri": "https://localhost:8080/"
        },
        "id": "KiJ-nCR7SC0k",
        "outputId": "4be44b05-2139-4332-8175-05a8b24858ba"
      },
      "source": [
        "# Checking the size of labels and making sure it matches the size of features\n",
        "len(labels)"
      ],
      "execution_count": 35,
      "outputs": [
        {
          "output_type": "execute_result",
          "data": {
            "text/plain": [
              "69"
            ]
          },
          "metadata": {},
          "execution_count": 35
        }
      ]
    },
    {
      "cell_type": "markdown",
      "metadata": {
        "id": "VBW51fslSIJh"
      },
      "source": [
        "**Checking if we have balanced classes for the whole data**"
      ]
    },
    {
      "cell_type": "code",
      "metadata": {
        "colab": {
          "base_uri": "https://localhost:8080/"
        },
        "id": "uk-KhwrTSE0h",
        "outputId": "52aa4347-84e9-4a30-857d-761526adf72f"
      },
      "source": [
        "# They look somewhat balanced with a min of 56 and a max of 166, mean of 114 \n",
        "# with standard deviation of 15.89 (calculated from scipy)\n",
        "np.unique(labels, return_counts=True)"
      ],
      "execution_count": 36,
      "outputs": [
        {
          "output_type": "execute_result",
          "data": {
            "text/plain": [
              "(array(['8297', '8842'], dtype='<U4'), array([14, 55]))"
            ]
          },
          "metadata": {},
          "execution_count": 36
        }
      ]
    },
    {
      "cell_type": "markdown",
      "metadata": {
        "id": "xFuaIVKASS-9"
      },
      "source": [
        "**Hot encoding y and pre processing X and y**"
      ]
    },
    {
      "cell_type": "code",
      "metadata": {
        "id": "jMGwTGLpSNE_"
      },
      "source": [
        "X = np.array(features)"
      ],
      "execution_count": 37,
      "outputs": []
    },
    {
      "cell_type": "code",
      "metadata": {
        "id": "thsowgcvSZog"
      },
      "source": [
        "y = np.array(labels)"
      ],
      "execution_count": 38,
      "outputs": []
    },
    {
      "cell_type": "code",
      "metadata": {
        "id": "jMujOP-4ScK0"
      },
      "source": [
        "\n",
        "# Hot encoding y\n",
        "lb = LabelEncoder()\n",
        "y = to_categorical(lb.fit_transform(y))"
      ],
      "execution_count": 39,
      "outputs": []
    },
    {
      "cell_type": "code",
      "metadata": {
        "colab": {
          "base_uri": "https://localhost:8080/"
        },
        "id": "MwBa4frESeo4",
        "outputId": "d2d5a08c-b9f9-481c-9ec6-48ecd99b8bdb"
      },
      "source": [
        "X.shape"
      ],
      "execution_count": 40,
      "outputs": [
        {
          "output_type": "execute_result",
          "data": {
            "text/plain": [
              "(69, 193)"
            ]
          },
          "metadata": {},
          "execution_count": 40
        }
      ]
    },
    {
      "cell_type": "code",
      "metadata": {
        "colab": {
          "base_uri": "https://localhost:8080/"
        },
        "id": "hET_dku8SiD0",
        "outputId": "857dc667-3fc8-496e-bf4e-c47400c65ba3"
      },
      "source": [
        "y.shape"
      ],
      "execution_count": 41,
      "outputs": [
        {
          "output_type": "execute_result",
          "data": {
            "text/plain": [
              "(69, 2)"
            ]
          },
          "metadata": {},
          "execution_count": 41
        }
      ]
    },
    {
      "cell_type": "code",
      "metadata": {
        "id": "UF7xy_zHSk7K"
      },
      "source": [
        "\n",
        "# Choosing the first 9188 (70%) files to be our train data\n",
        "# Choosing the next  2625 (20%) files to be our validation data\n",
        "# Choosing the next  1312 (10%) files to be our test never before seen data\n",
        "# This is analogous to a train test split but we add a validation split and we are making\n",
        "# we do not shuffle anything since we are dealing with several time series, we already \n",
        "# checked before that we have balanced classes (analogous to stratify)\n",
        "\n",
        "X_train = X[:48]\n",
        "y_train = y[:48]\n",
        "\n",
        "X_val = X[48:]\n",
        "y_val = y[48:]\n"
      ],
      "execution_count": 42,
      "outputs": []
    },
    {
      "cell_type": "code",
      "metadata": {
        "id": "7Hg0RqdkS_Nk"
      },
      "source": [
        "ss = StandardScaler()\n",
        "X_train = ss.fit_transform(X_train)\n",
        "X_val = ss.transform(X_val)"
      ],
      "execution_count": 43,
      "outputs": []
    },
    {
      "cell_type": "code",
      "metadata": {
        "id": "v34i3KrbTCPv"
      },
      "source": [
        "# Build a simple dense model with early stopping with softmax for categorical classification\n",
        "# We have 115 classes \n",
        "\n",
        "model = Sequential()\n",
        "\n",
        "model.add(Dense(193, input_shape=(193,), activation = 'relu'))\n",
        "model.add(Dropout(0.1))\n",
        "\n",
        "model.add(Dense(128, activation = 'relu'))\n",
        "model.add(Dropout(0.25))  \n",
        "\n",
        "model.add(Dense(128, activation = 'relu'))\n",
        "model.add(Dropout(0.5))    \n",
        "\n",
        "model.add(Dense(2, activation = 'softmax'))\n",
        "\n",
        "model.compile(loss='categorical_crossentropy', metrics=['accuracy'], optimizer='adam')\n",
        "\n",
        "early_stop = EarlyStopping(monitor='val_loss', min_delta=0, patience=100, verbose=1, mode='auto')"
      ],
      "execution_count": 44,
      "outputs": []
    },
    {
      "cell_type": "code",
      "metadata": {
        "colab": {
          "base_uri": "https://localhost:8080/"
        },
        "id": "GVBj5vjQTbWF",
        "outputId": "3a7bba85-022f-460f-99bc-97c04cfd173f"
      },
      "source": [
        "\n",
        "# fitting the model with the train data and validation with the validation data\n",
        "# we used early stop with patience 100 because we did not want to use early stop\n",
        "# I leave the early stop regularization code in case anyone wants to use it\n",
        "\n",
        "history = model.fit(X_train, y_train, batch_size=256, epochs=100, \n",
        "                    validation_data=(X_val, y_val),\n",
        "                    callbacks=[early_stop])"
      ],
      "execution_count": 45,
      "outputs": [
        {
          "output_type": "stream",
          "name": "stdout",
          "text": [
            "Epoch 1/100\n",
            "1/1 [==============================] - 1s 1s/step - loss: 0.8547 - accuracy: 0.4375 - val_loss: 0.6219 - val_accuracy: 0.6667\n",
            "Epoch 2/100\n",
            "1/1 [==============================] - 0s 26ms/step - loss: 0.6422 - accuracy: 0.6042 - val_loss: 0.4570 - val_accuracy: 0.9524\n",
            "Epoch 3/100\n",
            "1/1 [==============================] - 0s 28ms/step - loss: 0.4076 - accuracy: 0.8333 - val_loss: 0.3404 - val_accuracy: 1.0000\n",
            "Epoch 4/100\n",
            "1/1 [==============================] - 0s 27ms/step - loss: 0.2832 - accuracy: 0.8958 - val_loss: 0.2584 - val_accuracy: 1.0000\n",
            "Epoch 5/100\n",
            "1/1 [==============================] - 0s 44ms/step - loss: 0.2511 - accuracy: 0.9167 - val_loss: 0.1978 - val_accuracy: 1.0000\n",
            "Epoch 6/100\n",
            "1/1 [==============================] - 0s 39ms/step - loss: 0.1416 - accuracy: 0.9792 - val_loss: 0.1512 - val_accuracy: 1.0000\n",
            "Epoch 7/100\n",
            "1/1 [==============================] - 0s 33ms/step - loss: 0.1529 - accuracy: 0.9792 - val_loss: 0.1173 - val_accuracy: 1.0000\n",
            "Epoch 8/100\n",
            "1/1 [==============================] - 0s 30ms/step - loss: 0.1096 - accuracy: 0.9792 - val_loss: 0.0913 - val_accuracy: 1.0000\n",
            "Epoch 9/100\n",
            "1/1 [==============================] - 0s 32ms/step - loss: 0.0554 - accuracy: 1.0000 - val_loss: 0.0715 - val_accuracy: 1.0000\n",
            "Epoch 10/100\n",
            "1/1 [==============================] - 0s 50ms/step - loss: 0.0760 - accuracy: 1.0000 - val_loss: 0.0566 - val_accuracy: 1.0000\n",
            "Epoch 11/100\n",
            "1/1 [==============================] - 0s 40ms/step - loss: 0.0307 - accuracy: 1.0000 - val_loss: 0.0451 - val_accuracy: 1.0000\n",
            "Epoch 12/100\n",
            "1/1 [==============================] - 0s 28ms/step - loss: 0.0265 - accuracy: 1.0000 - val_loss: 0.0359 - val_accuracy: 1.0000\n",
            "Epoch 13/100\n",
            "1/1 [==============================] - 0s 35ms/step - loss: 0.0302 - accuracy: 1.0000 - val_loss: 0.0288 - val_accuracy: 1.0000\n",
            "Epoch 14/100\n",
            "1/1 [==============================] - 0s 46ms/step - loss: 0.0166 - accuracy: 1.0000 - val_loss: 0.0235 - val_accuracy: 1.0000\n",
            "Epoch 15/100\n",
            "1/1 [==============================] - 0s 32ms/step - loss: 0.0130 - accuracy: 1.0000 - val_loss: 0.0192 - val_accuracy: 1.0000\n",
            "Epoch 16/100\n",
            "1/1 [==============================] - 0s 35ms/step - loss: 0.0169 - accuracy: 1.0000 - val_loss: 0.0160 - val_accuracy: 1.0000\n",
            "Epoch 17/100\n",
            "1/1 [==============================] - 0s 29ms/step - loss: 0.0078 - accuracy: 1.0000 - val_loss: 0.0135 - val_accuracy: 1.0000\n",
            "Epoch 18/100\n",
            "1/1 [==============================] - 0s 32ms/step - loss: 0.0054 - accuracy: 1.0000 - val_loss: 0.0114 - val_accuracy: 1.0000\n",
            "Epoch 19/100\n",
            "1/1 [==============================] - 0s 28ms/step - loss: 0.0067 - accuracy: 1.0000 - val_loss: 0.0097 - val_accuracy: 1.0000\n",
            "Epoch 20/100\n",
            "1/1 [==============================] - 0s 26ms/step - loss: 0.0033 - accuracy: 1.0000 - val_loss: 0.0084 - val_accuracy: 1.0000\n",
            "Epoch 21/100\n",
            "1/1 [==============================] - 0s 27ms/step - loss: 0.0033 - accuracy: 1.0000 - val_loss: 0.0073 - val_accuracy: 1.0000\n",
            "Epoch 22/100\n",
            "1/1 [==============================] - 0s 36ms/step - loss: 0.0158 - accuracy: 0.9792 - val_loss: 0.0065 - val_accuracy: 1.0000\n",
            "Epoch 23/100\n",
            "1/1 [==============================] - 0s 31ms/step - loss: 5.3028e-04 - accuracy: 1.0000 - val_loss: 0.0059 - val_accuracy: 1.0000\n",
            "Epoch 24/100\n",
            "1/1 [==============================] - 0s 26ms/step - loss: 0.0028 - accuracy: 1.0000 - val_loss: 0.0053 - val_accuracy: 1.0000\n",
            "Epoch 25/100\n",
            "1/1 [==============================] - 0s 30ms/step - loss: 0.0019 - accuracy: 1.0000 - val_loss: 0.0048 - val_accuracy: 1.0000\n",
            "Epoch 26/100\n",
            "1/1 [==============================] - 0s 32ms/step - loss: 8.3180e-04 - accuracy: 1.0000 - val_loss: 0.0044 - val_accuracy: 1.0000\n",
            "Epoch 27/100\n",
            "1/1 [==============================] - 0s 33ms/step - loss: 0.0011 - accuracy: 1.0000 - val_loss: 0.0041 - val_accuracy: 1.0000\n",
            "Epoch 28/100\n",
            "1/1 [==============================] - 0s 28ms/step - loss: 6.9232e-04 - accuracy: 1.0000 - val_loss: 0.0037 - val_accuracy: 1.0000\n",
            "Epoch 29/100\n",
            "1/1 [==============================] - 0s 36ms/step - loss: 0.0011 - accuracy: 1.0000 - val_loss: 0.0035 - val_accuracy: 1.0000\n",
            "Epoch 30/100\n",
            "1/1 [==============================] - 0s 28ms/step - loss: 6.5224e-04 - accuracy: 1.0000 - val_loss: 0.0032 - val_accuracy: 1.0000\n",
            "Epoch 31/100\n",
            "1/1 [==============================] - 0s 27ms/step - loss: 5.7461e-04 - accuracy: 1.0000 - val_loss: 0.0030 - val_accuracy: 1.0000\n",
            "Epoch 32/100\n",
            "1/1 [==============================] - 0s 31ms/step - loss: 9.9024e-04 - accuracy: 1.0000 - val_loss: 0.0028 - val_accuracy: 1.0000\n",
            "Epoch 33/100\n",
            "1/1 [==============================] - 0s 38ms/step - loss: 2.9411e-04 - accuracy: 1.0000 - val_loss: 0.0027 - val_accuracy: 1.0000\n",
            "Epoch 34/100\n",
            "1/1 [==============================] - 0s 28ms/step - loss: 0.0016 - accuracy: 1.0000 - val_loss: 0.0025 - val_accuracy: 1.0000\n",
            "Epoch 35/100\n",
            "1/1 [==============================] - 0s 40ms/step - loss: 2.5048e-04 - accuracy: 1.0000 - val_loss: 0.0024 - val_accuracy: 1.0000\n",
            "Epoch 36/100\n",
            "1/1 [==============================] - 0s 30ms/step - loss: 8.0685e-04 - accuracy: 1.0000 - val_loss: 0.0023 - val_accuracy: 1.0000\n",
            "Epoch 37/100\n",
            "1/1 [==============================] - 0s 27ms/step - loss: 6.3007e-04 - accuracy: 1.0000 - val_loss: 0.0022 - val_accuracy: 1.0000\n",
            "Epoch 38/100\n",
            "1/1 [==============================] - 0s 26ms/step - loss: 1.8120e-04 - accuracy: 1.0000 - val_loss: 0.0022 - val_accuracy: 1.0000\n",
            "Epoch 39/100\n",
            "1/1 [==============================] - 0s 30ms/step - loss: 5.9361e-04 - accuracy: 1.0000 - val_loss: 0.0021 - val_accuracy: 1.0000\n",
            "Epoch 40/100\n",
            "1/1 [==============================] - 0s 29ms/step - loss: 4.7502e-04 - accuracy: 1.0000 - val_loss: 0.0021 - val_accuracy: 1.0000\n",
            "Epoch 41/100\n",
            "1/1 [==============================] - 0s 31ms/step - loss: 6.6464e-04 - accuracy: 1.0000 - val_loss: 0.0020 - val_accuracy: 1.0000\n",
            "Epoch 42/100\n",
            "1/1 [==============================] - 0s 40ms/step - loss: 2.4889e-04 - accuracy: 1.0000 - val_loss: 0.0019 - val_accuracy: 1.0000\n",
            "Epoch 43/100\n",
            "1/1 [==============================] - 0s 30ms/step - loss: 7.9102e-04 - accuracy: 1.0000 - val_loss: 0.0019 - val_accuracy: 1.0000\n",
            "Epoch 44/100\n",
            "1/1 [==============================] - 0s 25ms/step - loss: 1.6222e-04 - accuracy: 1.0000 - val_loss: 0.0019 - val_accuracy: 1.0000\n",
            "Epoch 45/100\n",
            "1/1 [==============================] - 0s 32ms/step - loss: 1.8120e-04 - accuracy: 1.0000 - val_loss: 0.0018 - val_accuracy: 1.0000\n",
            "Epoch 46/100\n",
            "1/1 [==============================] - 0s 31ms/step - loss: 0.0028 - accuracy: 1.0000 - val_loss: 0.0018 - val_accuracy: 1.0000\n",
            "Epoch 47/100\n",
            "1/1 [==============================] - 0s 37ms/step - loss: 6.1021e-05 - accuracy: 1.0000 - val_loss: 0.0018 - val_accuracy: 1.0000\n",
            "Epoch 48/100\n",
            "1/1 [==============================] - 0s 43ms/step - loss: 3.2917e-04 - accuracy: 1.0000 - val_loss: 0.0018 - val_accuracy: 1.0000\n",
            "Epoch 49/100\n",
            "1/1 [==============================] - 0s 39ms/step - loss: 6.9676e-04 - accuracy: 1.0000 - val_loss: 0.0018 - val_accuracy: 1.0000\n",
            "Epoch 50/100\n",
            "1/1 [==============================] - 0s 34ms/step - loss: 5.8567e-04 - accuracy: 1.0000 - val_loss: 0.0017 - val_accuracy: 1.0000\n",
            "Epoch 51/100\n",
            "1/1 [==============================] - 0s 37ms/step - loss: 6.4627e-05 - accuracy: 1.0000 - val_loss: 0.0017 - val_accuracy: 1.0000\n",
            "Epoch 52/100\n",
            "1/1 [==============================] - 0s 29ms/step - loss: 2.1586e-04 - accuracy: 1.0000 - val_loss: 0.0017 - val_accuracy: 1.0000\n",
            "Epoch 53/100\n",
            "1/1 [==============================] - 0s 35ms/step - loss: 2.1344e-05 - accuracy: 1.0000 - val_loss: 0.0017 - val_accuracy: 1.0000\n",
            "Epoch 54/100\n",
            "1/1 [==============================] - 0s 39ms/step - loss: 1.6388e-04 - accuracy: 1.0000 - val_loss: 0.0017 - val_accuracy: 1.0000\n",
            "Epoch 55/100\n",
            "1/1 [==============================] - 0s 37ms/step - loss: 2.1036e-04 - accuracy: 1.0000 - val_loss: 0.0016 - val_accuracy: 1.0000\n",
            "Epoch 56/100\n",
            "1/1 [==============================] - 0s 30ms/step - loss: 7.0104e-04 - accuracy: 1.0000 - val_loss: 0.0016 - val_accuracy: 1.0000\n",
            "Epoch 57/100\n",
            "1/1 [==============================] - 0s 35ms/step - loss: 7.0972e-05 - accuracy: 1.0000 - val_loss: 0.0016 - val_accuracy: 1.0000\n",
            "Epoch 58/100\n",
            "1/1 [==============================] - 0s 28ms/step - loss: 5.2946e-04 - accuracy: 1.0000 - val_loss: 0.0016 - val_accuracy: 1.0000\n",
            "Epoch 59/100\n",
            "1/1 [==============================] - 0s 37ms/step - loss: 1.0180e-04 - accuracy: 1.0000 - val_loss: 0.0015 - val_accuracy: 1.0000\n",
            "Epoch 60/100\n",
            "1/1 [==============================] - 0s 41ms/step - loss: 2.1858e-05 - accuracy: 1.0000 - val_loss: 0.0015 - val_accuracy: 1.0000\n",
            "Epoch 61/100\n",
            "1/1 [==============================] - 0s 31ms/step - loss: 1.9784e-04 - accuracy: 1.0000 - val_loss: 0.0015 - val_accuracy: 1.0000\n",
            "Epoch 62/100\n",
            "1/1 [==============================] - 0s 34ms/step - loss: 1.9652e-04 - accuracy: 1.0000 - val_loss: 0.0015 - val_accuracy: 1.0000\n",
            "Epoch 63/100\n",
            "1/1 [==============================] - 0s 33ms/step - loss: 7.2886e-05 - accuracy: 1.0000 - val_loss: 0.0014 - val_accuracy: 1.0000\n",
            "Epoch 64/100\n",
            "1/1 [==============================] - 0s 33ms/step - loss: 2.0874e-04 - accuracy: 1.0000 - val_loss: 0.0014 - val_accuracy: 1.0000\n",
            "Epoch 65/100\n",
            "1/1 [==============================] - 0s 32ms/step - loss: 1.7872e-04 - accuracy: 1.0000 - val_loss: 0.0014 - val_accuracy: 1.0000\n",
            "Epoch 66/100\n",
            "1/1 [==============================] - 0s 34ms/step - loss: 2.4471e-05 - accuracy: 1.0000 - val_loss: 0.0014 - val_accuracy: 1.0000\n",
            "Epoch 67/100\n",
            "1/1 [==============================] - 0s 34ms/step - loss: 1.1260e-04 - accuracy: 1.0000 - val_loss: 0.0014 - val_accuracy: 1.0000\n",
            "Epoch 68/100\n",
            "1/1 [==============================] - 0s 30ms/step - loss: 2.1430e-04 - accuracy: 1.0000 - val_loss: 0.0014 - val_accuracy: 1.0000\n",
            "Epoch 69/100\n",
            "1/1 [==============================] - 0s 31ms/step - loss: 1.1481e-04 - accuracy: 1.0000 - val_loss: 0.0014 - val_accuracy: 1.0000\n",
            "Epoch 70/100\n",
            "1/1 [==============================] - 0s 40ms/step - loss: 6.6543e-05 - accuracy: 1.0000 - val_loss: 0.0013 - val_accuracy: 1.0000\n",
            "Epoch 71/100\n",
            "1/1 [==============================] - 0s 35ms/step - loss: 1.8288e-04 - accuracy: 1.0000 - val_loss: 0.0013 - val_accuracy: 1.0000\n",
            "Epoch 72/100\n",
            "1/1 [==============================] - 0s 32ms/step - loss: 3.4028e-04 - accuracy: 1.0000 - val_loss: 0.0013 - val_accuracy: 1.0000\n",
            "Epoch 73/100\n",
            "1/1 [==============================] - 0s 32ms/step - loss: 1.2042e-05 - accuracy: 1.0000 - val_loss: 0.0013 - val_accuracy: 1.0000\n",
            "Epoch 74/100\n",
            "1/1 [==============================] - 0s 36ms/step - loss: 1.4079e-04 - accuracy: 1.0000 - val_loss: 0.0013 - val_accuracy: 1.0000\n",
            "Epoch 75/100\n",
            "1/1 [==============================] - 0s 39ms/step - loss: 1.1497e-04 - accuracy: 1.0000 - val_loss: 0.0013 - val_accuracy: 1.0000\n",
            "Epoch 76/100\n",
            "1/1 [==============================] - 0s 27ms/step - loss: 3.7412e-04 - accuracy: 1.0000 - val_loss: 0.0013 - val_accuracy: 1.0000\n",
            "Epoch 77/100\n",
            "1/1 [==============================] - 0s 34ms/step - loss: 8.2170e-05 - accuracy: 1.0000 - val_loss: 0.0013 - val_accuracy: 1.0000\n",
            "Epoch 78/100\n",
            "1/1 [==============================] - 0s 28ms/step - loss: 3.0941e-04 - accuracy: 1.0000 - val_loss: 0.0013 - val_accuracy: 1.0000\n",
            "Epoch 79/100\n",
            "1/1 [==============================] - 0s 31ms/step - loss: 8.0986e-05 - accuracy: 1.0000 - val_loss: 0.0012 - val_accuracy: 1.0000\n",
            "Epoch 80/100\n",
            "1/1 [==============================] - 0s 31ms/step - loss: 1.3374e-04 - accuracy: 1.0000 - val_loss: 0.0012 - val_accuracy: 1.0000\n",
            "Epoch 81/100\n",
            "1/1 [==============================] - 0s 28ms/step - loss: 4.7828e-05 - accuracy: 1.0000 - val_loss: 0.0012 - val_accuracy: 1.0000\n",
            "Epoch 82/100\n",
            "1/1 [==============================] - 0s 33ms/step - loss: 6.8076e-05 - accuracy: 1.0000 - val_loss: 0.0012 - val_accuracy: 1.0000\n",
            "Epoch 83/100\n",
            "1/1 [==============================] - 0s 29ms/step - loss: 3.5595e-04 - accuracy: 1.0000 - val_loss: 0.0012 - val_accuracy: 1.0000\n",
            "Epoch 84/100\n",
            "1/1 [==============================] - 0s 33ms/step - loss: 0.0064 - accuracy: 1.0000 - val_loss: 0.0012 - val_accuracy: 1.0000\n",
            "Epoch 85/100\n",
            "1/1 [==============================] - 0s 32ms/step - loss: 1.8174e-04 - accuracy: 1.0000 - val_loss: 0.0012 - val_accuracy: 1.0000\n",
            "Epoch 86/100\n",
            "1/1 [==============================] - 0s 31ms/step - loss: 1.2323e-04 - accuracy: 1.0000 - val_loss: 0.0012 - val_accuracy: 1.0000\n",
            "Epoch 87/100\n",
            "1/1 [==============================] - 0s 36ms/step - loss: 7.7310e-06 - accuracy: 1.0000 - val_loss: 0.0013 - val_accuracy: 1.0000\n",
            "Epoch 88/100\n",
            "1/1 [==============================] - 0s 27ms/step - loss: 1.2233e-04 - accuracy: 1.0000 - val_loss: 0.0013 - val_accuracy: 1.0000\n",
            "Epoch 89/100\n",
            "1/1 [==============================] - 0s 27ms/step - loss: 5.7980e-05 - accuracy: 1.0000 - val_loss: 0.0013 - val_accuracy: 1.0000\n",
            "Epoch 90/100\n",
            "1/1 [==============================] - 0s 38ms/step - loss: 9.6248e-05 - accuracy: 1.0000 - val_loss: 0.0013 - val_accuracy: 1.0000\n",
            "Epoch 91/100\n",
            "1/1 [==============================] - 0s 34ms/step - loss: 9.6710e-05 - accuracy: 1.0000 - val_loss: 0.0013 - val_accuracy: 1.0000\n",
            "Epoch 92/100\n",
            "1/1 [==============================] - 0s 29ms/step - loss: 1.0790e-04 - accuracy: 1.0000 - val_loss: 0.0013 - val_accuracy: 1.0000\n",
            "Epoch 93/100\n",
            "1/1 [==============================] - 0s 30ms/step - loss: 6.2506e-05 - accuracy: 1.0000 - val_loss: 0.0013 - val_accuracy: 1.0000\n",
            "Epoch 94/100\n",
            "1/1 [==============================] - 0s 29ms/step - loss: 1.4682e-05 - accuracy: 1.0000 - val_loss: 0.0013 - val_accuracy: 1.0000\n",
            "Epoch 95/100\n",
            "1/1 [==============================] - 0s 33ms/step - loss: 5.0060e-04 - accuracy: 1.0000 - val_loss: 0.0013 - val_accuracy: 1.0000\n",
            "Epoch 96/100\n",
            "1/1 [==============================] - 0s 34ms/step - loss: 3.1376e-04 - accuracy: 1.0000 - val_loss: 0.0013 - val_accuracy: 1.0000\n",
            "Epoch 97/100\n",
            "1/1 [==============================] - 0s 25ms/step - loss: 3.4878e-05 - accuracy: 1.0000 - val_loss: 0.0013 - val_accuracy: 1.0000\n",
            "Epoch 98/100\n",
            "1/1 [==============================] - 0s 36ms/step - loss: 4.7312e-05 - accuracy: 1.0000 - val_loss: 0.0013 - val_accuracy: 1.0000\n",
            "Epoch 99/100\n",
            "1/1 [==============================] - 0s 37ms/step - loss: 4.0277e-05 - accuracy: 1.0000 - val_loss: 0.0013 - val_accuracy: 1.0000\n",
            "Epoch 100/100\n",
            "1/1 [==============================] - 0s 33ms/step - loss: 2.5312e-04 - accuracy: 1.0000 - val_loss: 0.0013 - val_accuracy: 1.0000\n"
          ]
        }
      ]
    },
    {
      "cell_type": "code",
      "metadata": {
        "colab": {
          "base_uri": "https://localhost:8080/",
          "height": 530
        },
        "id": "UgLydpbgTfso",
        "outputId": "64e3c30f-86be-44fd-ac5b-15270b285806"
      },
      "source": [
        "# Check out our train accuracy and validation accuracy over epochs.\n",
        "import matplotlib.pyplot as plt\n",
        "train_accuracy = history.history['accuracy']\n",
        "val_accuracy = history.history['val_accuracy']\n",
        "\n",
        "# Set figure size.\n",
        "plt.figure(figsize=(12, 8))\n",
        "\n",
        "# Generate line plot of training, testing loss over epochs.\n",
        "plt.plot(train_accuracy, label='Training Accuracy', color='#185fad')\n",
        "plt.plot(val_accuracy, label='Validation Accuracy', color='orange')\n",
        "\n",
        "# Set title\n",
        "plt.title('Training and Validation Accuracy by Epoch', fontsize = 25)\n",
        "plt.xlabel('Epoch', fontsize = 18)\n",
        "plt.ylabel('Categorical Crossentropy', fontsize = 18)\n",
        "plt.xticks(range(0,100,5), range(0,100,5))\n",
        "\n",
        "plt.legend(fontsize = 18);"
      ],
      "execution_count": 46,
      "outputs": [
        {
          "output_type": "display_data",
          "data": {
            "image/png": "[encoded data removed]",
            "text/plain": [
              "<Figure size 864x576 with 1 Axes>"
            ]
          },
          "metadata": {
            "needs_background": "light"
          }
        }
      ]
    }
  ]
}