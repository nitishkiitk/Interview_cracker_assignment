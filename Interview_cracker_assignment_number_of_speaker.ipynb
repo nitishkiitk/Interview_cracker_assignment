{
  "nbformat": 4,
  "nbformat_minor": 0,
  "metadata": {
    "colab": {
      "name": "Interview_cracker_assignment.ipynb",
      "provenance": []
    },
    "kernelspec": {
      "name": "python3",
      "display_name": "Python 3"
    },
    "language_info": {
      "name": "python"
    }
  },
  "cells": [
    {
      "cell_type": "code",
      "metadata": {
        "colab": {
          "base_uri": "https://localhost:8080/"
        },
        "id": "FjkjtqZVnuF5",
        "outputId": "6fea0e0f-c11f-4e05-e96e-ed53796657d6"
      },
      "source": [
        "from google.colab import drive\n",
        "drive.mount('/content/drive')"
      ],
      "execution_count": 269,
      "outputs": [
        {
          "output_type": "stream",
          "name": "stdout",
          "text": [
            "Drive already mounted at /content/drive; to attempt to forcibly remount, call drive.mount(\"/content/drive\", force_remount=True).\n"
          ]
        }
      ]
    },
    {
      "cell_type": "code",
      "metadata": {
        "id": "XVqeXUXTUF4k"
      },
      "source": [
        "import IPython.display as ipd\n",
        "# % pylab inline\n",
        "import os\n",
        "import pandas as pd\n",
        "import librosa\n",
        "import glob \n",
        "import librosa.display\n",
        "import random\n",
        "\n",
        "from sklearn.preprocessing import StandardScaler\n",
        "from sklearn.model_selection import train_test_split\n",
        "\n",
        "from keras.utils.np_utils import to_categorical\n",
        "\n",
        "import numpy as np\n",
        "from keras.models import Sequential\n",
        "from keras.layers import Dense, Dropout, Activation, Flatten\n",
        "from keras.layers import Convolution2D, MaxPooling2D\n",
        "from tensorflow.keras.optimizers import Adam  # \"from keras.optimizers import Adam\" don't work so i have to import it like \"from tensorflow.keras.optimizers import Adam\"\n",
        "from keras.utils import np_utils\n",
        "from sklearn import metrics \n",
        "\n",
        "from sklearn.datasets import make_regression\n",
        "from sklearn.preprocessing import StandardScaler\n",
        "from sklearn import metrics\n",
        "from sklearn.model_selection import train_test_split, GridSearchCV\n",
        "\n",
        "from tensorflow.keras.models import Sequential\n",
        "from tensorflow.keras.layers import Dense, Dropout \n",
        "from tensorflow.keras.wrappers.scikit_learn import KerasRegressor\n",
        "\n",
        "from keras.callbacks import EarlyStopping\n",
        "\n",
        "from keras import regularizers\n",
        "\n",
        "from sklearn.preprocessing import LabelEncoder\n",
        "\n",
        "from datetime import datetime\n",
        "\n",
        "import os"
      ],
      "execution_count": 270,
      "outputs": []
    },
    {
      "cell_type": "code",
      "metadata": {
        "id": "bvZnfWesfaVE"
      },
      "source": [
        "#list the files\n",
        "filelist = os.listdir('drive/MyDrive/interview_cracker/male') \n",
        "#read them into pandas\n",
        "df_male = pd.DataFrame(filelist)"
      ],
      "execution_count": 271,
      "outputs": []
    },
    {
      "cell_type": "code",
      "metadata": {
        "id": "PVSTqrFvc2xp"
      },
      "source": [
        "# Adding the 1 label to the dataframe representing male\n",
        "df_male['label']='1'\n"
      ],
      "execution_count": 272,
      "outputs": []
    },
    {
      "cell_type": "code",
      "metadata": {
        "id": "3O68LF9QeKGH"
      },
      "source": [
        "# Renaming the column name to file\n",
        "df_male = df_male.rename(columns={0:'file'})"
      ],
      "execution_count": 273,
      "outputs": []
    },
    {
      "cell_type": "code",
      "metadata": {
        "id": "jk30_Nv3gtiP",
        "colab": {
          "base_uri": "https://localhost:8080/",
          "height": 204
        },
        "outputId": "63ea440f-ce25-4cce-fe7d-d5d5b0ddffd5"
      },
      "source": [
        "df_male.head()"
      ],
      "execution_count": 274,
      "outputs": [
        {
          "output_type": "execute_result",
          "data": {
            "text/html": [
              "<div>\n",
              "<style scoped>\n",
              "    .dataframe tbody tr th:only-of-type {\n",
              "        vertical-align: middle;\n",
              "    }\n",
              "\n",
              "    .dataframe tbody tr th {\n",
              "        vertical-align: top;\n",
              "    }\n",
              "\n",
              "    .dataframe thead th {\n",
              "        text-align: right;\n",
              "    }\n",
              "</style>\n",
              "<table border=\"1\" class=\"dataframe\">\n",
              "  <thead>\n",
              "    <tr style=\"text-align: right;\">\n",
              "      <th></th>\n",
              "      <th>file</th>\n",
              "      <th>label</th>\n",
              "    </tr>\n",
              "  </thead>\n",
              "  <tbody>\n",
              "    <tr>\n",
              "      <th>0</th>\n",
              "      <td>8842-304647-0013.flac</td>\n",
              "      <td>1</td>\n",
              "    </tr>\n",
              "    <tr>\n",
              "      <th>1</th>\n",
              "      <td>8842-304647-0012.flac</td>\n",
              "      <td>1</td>\n",
              "    </tr>\n",
              "    <tr>\n",
              "      <th>2</th>\n",
              "      <td>8842-304647-0006.flac</td>\n",
              "      <td>1</td>\n",
              "    </tr>\n",
              "    <tr>\n",
              "      <th>3</th>\n",
              "      <td>8842-304647-0000.flac</td>\n",
              "      <td>1</td>\n",
              "    </tr>\n",
              "    <tr>\n",
              "      <th>4</th>\n",
              "      <td>8842-304647-0002.flac</td>\n",
              "      <td>1</td>\n",
              "    </tr>\n",
              "  </tbody>\n",
              "</table>\n",
              "</div>"
            ],
            "text/plain": [
              "                    file label\n",
              "0  8842-304647-0013.flac     1\n",
              "1  8842-304647-0012.flac     1\n",
              "2  8842-304647-0006.flac     1\n",
              "3  8842-304647-0000.flac     1\n",
              "4  8842-304647-0002.flac     1"
            ]
          },
          "metadata": {},
          "execution_count": 274
        }
      ]
    },
    {
      "cell_type": "code",
      "metadata": {
        "colab": {
          "base_uri": "https://localhost:8080/",
          "height": 49
        },
        "id": "ZczsPmMIIPI5",
        "outputId": "aaedc116-8b23-4a48-a00f-a90c9f68e39a"
      },
      "source": [
        "\n",
        "# Checking for a file that gets automatically generated and we need to drop \n",
        "df_male[df_male['file']=='.DS_Store']"
      ],
      "execution_count": 275,
      "outputs": [
        {
          "output_type": "execute_result",
          "data": {
            "text/html": [
              "<div>\n",
              "<style scoped>\n",
              "    .dataframe tbody tr th:only-of-type {\n",
              "        vertical-align: middle;\n",
              "    }\n",
              "\n",
              "    .dataframe tbody tr th {\n",
              "        vertical-align: top;\n",
              "    }\n",
              "\n",
              "    .dataframe thead th {\n",
              "        text-align: right;\n",
              "    }\n",
              "</style>\n",
              "<table border=\"1\" class=\"dataframe\">\n",
              "  <thead>\n",
              "    <tr style=\"text-align: right;\">\n",
              "      <th></th>\n",
              "      <th>file</th>\n",
              "      <th>label</th>\n",
              "    </tr>\n",
              "  </thead>\n",
              "  <tbody>\n",
              "  </tbody>\n",
              "</table>\n",
              "</div>"
            ],
            "text/plain": [
              "Empty DataFrame\n",
              "Columns: [file, label]\n",
              "Index: []"
            ]
          },
          "metadata": {},
          "execution_count": 275
        }
      ]
    },
    {
      "cell_type": "markdown",
      "metadata": {
        "id": "GOWqI_GMIZ0Q"
      },
      "source": [
        "**Doing same thing for female folder**"
      ]
    },
    {
      "cell_type": "code",
      "metadata": {
        "id": "cmMmE3LSIWV3"
      },
      "source": [
        "filelist1 = os.listdir('drive/MyDrive/interview_cracker/female') \n",
        "#read them into pandas\n",
        "df_female = pd.DataFrame(filelist1)"
      ],
      "execution_count": 276,
      "outputs": []
    },
    {
      "cell_type": "code",
      "metadata": {
        "id": "56Q830eKIrXX"
      },
      "source": [
        "df_female['label']='0'"
      ],
      "execution_count": 277,
      "outputs": []
    },
    {
      "cell_type": "code",
      "metadata": {
        "id": "OnmI7ou-IuY7"
      },
      "source": [
        "df_female = df_female.rename(columns={0:'file'})"
      ],
      "execution_count": 278,
      "outputs": []
    },
    {
      "cell_type": "code",
      "metadata": {
        "colab": {
          "base_uri": "https://localhost:8080/",
          "height": 204
        },
        "id": "RsY_-zx-Iw17",
        "outputId": "4cbcf101-7acb-4d0d-f429-32fec61c0d9b"
      },
      "source": [
        "df_female.head()\n"
      ],
      "execution_count": 279,
      "outputs": [
        {
          "output_type": "execute_result",
          "data": {
            "text/html": [
              "<div>\n",
              "<style scoped>\n",
              "    .dataframe tbody tr th:only-of-type {\n",
              "        vertical-align: middle;\n",
              "    }\n",
              "\n",
              "    .dataframe tbody tr th {\n",
              "        vertical-align: top;\n",
              "    }\n",
              "\n",
              "    .dataframe thead th {\n",
              "        text-align: right;\n",
              "    }\n",
              "</style>\n",
              "<table border=\"1\" class=\"dataframe\">\n",
              "  <thead>\n",
              "    <tr style=\"text-align: right;\">\n",
              "      <th></th>\n",
              "      <th>file</th>\n",
              "      <th>label</th>\n",
              "    </tr>\n",
              "  </thead>\n",
              "  <tbody>\n",
              "    <tr>\n",
              "      <th>0</th>\n",
              "      <td>8842-302201-0003.flac</td>\n",
              "      <td>0</td>\n",
              "    </tr>\n",
              "    <tr>\n",
              "      <th>1</th>\n",
              "      <td>8842-302201-0000.flac</td>\n",
              "      <td>0</td>\n",
              "    </tr>\n",
              "    <tr>\n",
              "      <th>2</th>\n",
              "      <td>8842-302201-0001.flac</td>\n",
              "      <td>0</td>\n",
              "    </tr>\n",
              "    <tr>\n",
              "      <th>3</th>\n",
              "      <td>8842-302201-0002.flac</td>\n",
              "      <td>0</td>\n",
              "    </tr>\n",
              "    <tr>\n",
              "      <th>4</th>\n",
              "      <td>8297-275156-0003.flac</td>\n",
              "      <td>0</td>\n",
              "    </tr>\n",
              "  </tbody>\n",
              "</table>\n",
              "</div>"
            ],
            "text/plain": [
              "                    file label\n",
              "0  8842-302201-0003.flac     0\n",
              "1  8842-302201-0000.flac     0\n",
              "2  8842-302201-0001.flac     0\n",
              "3  8842-302201-0002.flac     0\n",
              "4  8297-275156-0003.flac     0"
            ]
          },
          "metadata": {},
          "execution_count": 279
        }
      ]
    },
    {
      "cell_type": "code",
      "metadata": {
        "colab": {
          "base_uri": "https://localhost:8080/",
          "height": 49
        },
        "id": "BRJ04egsI0An",
        "outputId": "6f6d3018-8d7e-4807-91cf-e0b7ca03d599"
      },
      "source": [
        "# Checking for a file that gets automatically generated and we need to drop \n",
        "df_female[df_female['file']=='.DS_Store']"
      ],
      "execution_count": 280,
      "outputs": [
        {
          "output_type": "execute_result",
          "data": {
            "text/html": [
              "<div>\n",
              "<style scoped>\n",
              "    .dataframe tbody tr th:only-of-type {\n",
              "        vertical-align: middle;\n",
              "    }\n",
              "\n",
              "    .dataframe tbody tr th {\n",
              "        vertical-align: top;\n",
              "    }\n",
              "\n",
              "    .dataframe thead th {\n",
              "        text-align: right;\n",
              "    }\n",
              "</style>\n",
              "<table border=\"1\" class=\"dataframe\">\n",
              "  <thead>\n",
              "    <tr style=\"text-align: right;\">\n",
              "      <th></th>\n",
              "      <th>file</th>\n",
              "      <th>label</th>\n",
              "    </tr>\n",
              "  </thead>\n",
              "  <tbody>\n",
              "  </tbody>\n",
              "</table>\n",
              "</div>"
            ],
            "text/plain": [
              "Empty DataFrame\n",
              "Columns: [file, label]\n",
              "Index: []"
            ]
          },
          "metadata": {},
          "execution_count": 280
        }
      ]
    },
    {
      "cell_type": "markdown",
      "metadata": {
        "id": "tOmcPolVJKLz"
      },
      "source": [
        "**Now concate both folder**"
      ]
    },
    {
      "cell_type": "code",
      "metadata": {
        "id": "W_5Gv4KEI3Ic"
      },
      "source": [
        "\n",
        "df = pd.concat([df_female, df_male], ignore_index=True)"
      ],
      "execution_count": 281,
      "outputs": []
    },
    {
      "cell_type": "code",
      "metadata": {
        "colab": {
          "base_uri": "https://localhost:8080/",
          "height": 204
        },
        "id": "9s9DXr8PJPEB",
        "outputId": "36122a8e-66da-4335-968f-5813ff8cf9ff"
      },
      "source": [
        "df.head()"
      ],
      "execution_count": 282,
      "outputs": [
        {
          "output_type": "execute_result",
          "data": {
            "text/html": [
              "<div>\n",
              "<style scoped>\n",
              "    .dataframe tbody tr th:only-of-type {\n",
              "        vertical-align: middle;\n",
              "    }\n",
              "\n",
              "    .dataframe tbody tr th {\n",
              "        vertical-align: top;\n",
              "    }\n",
              "\n",
              "    .dataframe thead th {\n",
              "        text-align: right;\n",
              "    }\n",
              "</style>\n",
              "<table border=\"1\" class=\"dataframe\">\n",
              "  <thead>\n",
              "    <tr style=\"text-align: right;\">\n",
              "      <th></th>\n",
              "      <th>file</th>\n",
              "      <th>label</th>\n",
              "    </tr>\n",
              "  </thead>\n",
              "  <tbody>\n",
              "    <tr>\n",
              "      <th>0</th>\n",
              "      <td>8842-302201-0003.flac</td>\n",
              "      <td>0</td>\n",
              "    </tr>\n",
              "    <tr>\n",
              "      <th>1</th>\n",
              "      <td>8842-302201-0000.flac</td>\n",
              "      <td>0</td>\n",
              "    </tr>\n",
              "    <tr>\n",
              "      <th>2</th>\n",
              "      <td>8842-302201-0001.flac</td>\n",
              "      <td>0</td>\n",
              "    </tr>\n",
              "    <tr>\n",
              "      <th>3</th>\n",
              "      <td>8842-302201-0002.flac</td>\n",
              "      <td>0</td>\n",
              "    </tr>\n",
              "    <tr>\n",
              "      <th>4</th>\n",
              "      <td>8297-275156-0003.flac</td>\n",
              "      <td>0</td>\n",
              "    </tr>\n",
              "  </tbody>\n",
              "</table>\n",
              "</div>"
            ],
            "text/plain": [
              "                    file label\n",
              "0  8842-302201-0003.flac     0\n",
              "1  8842-302201-0000.flac     0\n",
              "2  8842-302201-0001.flac     0\n",
              "3  8842-302201-0002.flac     0\n",
              "4  8297-275156-0003.flac     0"
            ]
          },
          "metadata": {},
          "execution_count": 282
        }
      ]
    },
    {
      "cell_type": "markdown",
      "metadata": {
        "id": "m8JNumtJJ3bU"
      },
      "source": [
        "**Dividing approx 70% file as train, approx 20% for validation and 10% for test**"
      ]
    },
    {
      "cell_type": "code",
      "metadata": {
        "id": "3_7DGDRnJTQV"
      },
      "source": [
        "df_train = df[:95]"
      ],
      "execution_count": 283,
      "outputs": []
    },
    {
      "cell_type": "code",
      "metadata": {
        "colab": {
          "base_uri": "https://localhost:8080/"
        },
        "id": "ZGHnqyj9JjV9",
        "outputId": "876957d4-faa3-49f9-87f3-66d310b274bb"
      },
      "source": [
        "df_train['label'].value_counts(normalize=True)"
      ],
      "execution_count": 284,
      "outputs": [
        {
          "output_type": "execute_result",
          "data": {
            "text/plain": [
              "1    0.724638\n",
              "0    0.275362\n",
              "Name: label, dtype: float64"
            ]
          },
          "metadata": {},
          "execution_count": 284
        }
      ]
    },
    {
      "cell_type": "code",
      "metadata": {
        "id": "PooPwet6KMbB"
      },
      "source": [
        "df_validation = df[95:122]"
      ],
      "execution_count": 285,
      "outputs": []
    },
    {
      "cell_type": "code",
      "metadata": {
        "colab": {
          "base_uri": "https://localhost:8080/"
        },
        "id": "DyOooV42KSQK",
        "outputId": "9e8a9a1a-ac9f-4b13-badd-58fe866261ab"
      },
      "source": [
        "df_validation['label'].value_counts(normalize=True)"
      ],
      "execution_count": 286,
      "outputs": [
        {
          "output_type": "execute_result",
          "data": {
            "text/plain": [
              "Series([], Name: label, dtype: float64)"
            ]
          },
          "metadata": {},
          "execution_count": 286
        }
      ]
    },
    {
      "cell_type": "code",
      "metadata": {
        "id": "0exkVgPQKUhF"
      },
      "source": [
        "df_test = df[122:]"
      ],
      "execution_count": 287,
      "outputs": []
    },
    {
      "cell_type": "code",
      "metadata": {
        "colab": {
          "base_uri": "https://localhost:8080/"
        },
        "id": "ryVrruHaKZ9l",
        "outputId": "8894f4b9-142f-4621-e8aa-9b1be8abcf6c"
      },
      "source": [
        "df_test['label'].value_counts(normalize=True)"
      ],
      "execution_count": 288,
      "outputs": [
        {
          "output_type": "execute_result",
          "data": {
            "text/plain": [
              "Series([], Name: label, dtype: float64)"
            ]
          },
          "metadata": {},
          "execution_count": 288
        }
      ]
    },
    {
      "cell_type": "markdown",
      "metadata": {
        "id": "APD8I8w5KrFD"
      },
      "source": [
        "**Function to extract the features and label for each sound file by iterating through every row of the dataframe**"
      ]
    },
    {
      "cell_type": "code",
      "metadata": {
        "colab": {
          "base_uri": "https://localhost:8080/"
        },
        "id": "JrIhtUdSPpx7",
        "outputId": "01343f71-bfa5-4d1f-92a7-d6245566d0d5"
      },
      "source": [
        "df.size"
      ],
      "execution_count": 289,
      "outputs": [
        {
          "output_type": "execute_result",
          "data": {
            "text/plain": [
              "138"
            ]
          },
          "metadata": {},
          "execution_count": 289
        }
      ]
    },
    {
      "cell_type": "code",
      "metadata": {
        "id": "kSvMQUmUKeKn"
      },
      "source": [
        "# Although this function was modified and many parameteres were explored with, most of it\n",
        "# came from Source 8 (sources in the READ.ME)\n",
        "\n",
        "def extract_features(files):\n",
        "    \n",
        "    # Sets the name to be the path to where the file is in my computer\n",
        "    file_name = os.path.join(os.path.abspath('drive/MyDrive/interview_cracker/whole')+'/'+str(files.file))\n",
        "\n",
        "    # Loads the audio file as a floating point time series and assigns the default sample rate\n",
        "    # Sample rate is set to 22050 by default\n",
        "    X, sample_rate = librosa.load(file_name, res_type='kaiser_fast') \n",
        "\n",
        "    # Generate Mel-frequency cepstral coefficients (MFCCs) from a time series \n",
        "    mfccs = np.mean(librosa.feature.mfcc(y=X, sr=sample_rate, n_mfcc=40).T,axis=0)\n",
        "\n",
        "    # Generates a Short-time Fourier transform (STFT) to use in the chroma_stft\n",
        "    stft = np.abs(librosa.stft(X))\n",
        "\n",
        "    # Computes a chromagram from a waveform or power spectrogram.\n",
        "    chroma = np.mean(librosa.feature.chroma_stft(S=stft, sr=sample_rate).T,axis=0)\n",
        "\n",
        "    # Computes a mel-scaled spectrogram.\n",
        "    mel = np.mean(librosa.feature.melspectrogram(X, sr=sample_rate).T,axis=0)\n",
        "\n",
        "    # Computes spectral contrast\n",
        "    contrast = np.mean(librosa.feature.spectral_contrast(S=stft, sr=sample_rate).T,axis=0)\n",
        "\n",
        "    # Computes the tonal centroid features (tonnetz)\n",
        "    tonnetz = np.mean(librosa.feature.tonnetz(y=librosa.effects.harmonic(X),\n",
        "    sr=sample_rate).T,axis=0)\n",
        "        \n",
        "    \n",
        "    # We add also the classes of each file as a label at the end\n",
        "    label = files.label\n",
        "\n",
        "    return mfccs, chroma, mel, contrast, tonnetz, label"
      ],
      "execution_count": 290,
      "outputs": []
    },
    {
      "cell_type": "code",
      "metadata": {
        "id": "h1pgUSwkK3dY"
      },
      "source": [
        "# Code to start the timer to see how long it takes to extract the features\n",
        "startTime = datetime.now()"
      ],
      "execution_count": 291,
      "outputs": []
    },
    {
      "cell_type": "code",
      "metadata": {
        "colab": {
          "base_uri": "https://localhost:8080/"
        },
        "id": "BAqzjnUHK75w",
        "outputId": "eefd8fa8-6943-47cd-9749-62bbc709d5f3"
      },
      "source": [
        "\n",
        "# Applying the function to the train data by accessing each row of the dataframe\n",
        "features_label = df.apply(extract_features, axis=1)"
      ],
      "execution_count": 292,
      "outputs": [
        {
          "output_type": "stream",
          "name": "stderr",
          "text": [
            "/usr/local/lib/python3.7/dist-packages/librosa/core/spectrum.py:224: UserWarning: n_fft=1024 is too small for input signal of length=597\n",
            "  n_fft, y.shape[-1]\n",
            "/usr/local/lib/python3.7/dist-packages/librosa/core/spectrum.py:224: UserWarning: n_fft=1024 is too small for input signal of length=765\n",
            "  n_fft, y.shape[-1]\n",
            "/usr/local/lib/python3.7/dist-packages/librosa/core/spectrum.py:224: UserWarning: n_fft=1024 is too small for input signal of length=931\n",
            "  n_fft, y.shape[-1]\n",
            "/usr/local/lib/python3.7/dist-packages/librosa/core/spectrum.py:224: UserWarning: n_fft=1024 is too small for input signal of length=853\n",
            "  n_fft, y.shape[-1]\n"
          ]
        }
      ]
    },
    {
      "cell_type": "code",
      "metadata": {
        "id": "Va11-9LtLARs",
        "colab": {
          "base_uri": "https://localhost:8080/"
        },
        "outputId": "d59f159b-ec12-419c-89b7-29ee14b6cd6a"
      },
      "source": [
        "# Code to see how long it took\n",
        "print(datetime.now() - startTime)"
      ],
      "execution_count": 293,
      "outputs": [
        {
          "output_type": "stream",
          "name": "stdout",
          "text": [
            "0:01:06.465562\n"
          ]
        }
      ]
    },
    {
      "cell_type": "code",
      "metadata": {
        "colab": {
          "base_uri": "https://localhost:8080/"
        },
        "id": "JAylvWc1RPjz",
        "outputId": "de755a29-6667-479d-82e1-b960bc3c4d11"
      },
      "source": [
        "# Checking how the output looks\n",
        "features_label"
      ],
      "execution_count": 294,
      "outputs": [
        {
          "output_type": "execute_result",
          "data": {
            "text/plain": [
              "0     ([-309.8799, 125.75075, -72.35409, 25.914524, ...\n",
              "1     ([-293.9715, 113.74911, -64.46816, 26.369616, ...\n",
              "2     ([-317.48996, 122.649216, -58.848385, 23.89396...\n",
              "3     ([-299.5096, 112.88996, -55.575134, 16.433844,...\n",
              "4     ([-333.8045, 137.62082, -27.692924, 41.409916,...\n",
              "                            ...                        \n",
              "64    ([-274.11508, 97.84525, -44.027008, 59.69928, ...\n",
              "65    ([-280.17307, 98.34835, -47.88796, 55.441204, ...\n",
              "66    ([-285.4652, 102.060135, -43.01367, 60.41856, ...\n",
              "67    ([-277.88553, 107.93075, -52.686363, 68.94524,...\n",
              "68    ([-282.68066, 95.98219, -48.96274, 59.82833, -...\n",
              "Length: 69, dtype: object"
            ]
          },
          "metadata": {},
          "execution_count": 294
        }
      ]
    },
    {
      "cell_type": "code",
      "metadata": {
        "id": "k2tu0addRUdu"
      },
      "source": [
        "# We create an empty list where we will concatenate all the features into one long feature\n",
        "# for each file to feed into our neural network \n",
        "\n",
        "features = []\n",
        "for i in range(0, len(features_label)):\n",
        "    features.append(np.concatenate((features_label[i][0], features_label[i][1], \n",
        "                features_label[i][2], features_label[i][3],\n",
        "                features_label[i][4]), axis=0))"
      ],
      "execution_count": 295,
      "outputs": []
    },
    {
      "cell_type": "code",
      "metadata": {
        "colab": {
          "base_uri": "https://localhost:8080/"
        },
        "id": "uxd_MVHXRaZ3",
        "outputId": "1711399c-5be6-42e3-e7f7-b0c45eb1e469"
      },
      "source": [
        "len(features)"
      ],
      "execution_count": 296,
      "outputs": [
        {
          "output_type": "execute_result",
          "data": {
            "text/plain": [
              "69"
            ]
          },
          "metadata": {},
          "execution_count": 296
        }
      ]
    },
    {
      "cell_type": "markdown",
      "metadata": {
        "id": "6j4iNm6kRjgg"
      },
      "source": [
        "**We will add the speaker id to our dataframe to have that as the label for our model and predict speakers from their voice**"
      ]
    },
    {
      "cell_type": "code",
      "metadata": {
        "id": "JTsc1vYTRd0f"
      },
      "source": [
        "# We create an empty list where we will append all the speakers ids for each row of our\n",
        "# dataframe by slicing the file name since we know the id is the first numbers before the hash\n",
        "speaker = []\n",
        "for i in range(0, len(df)):\n",
        "    speaker.append(df['file'][i].split('-')[0])"
      ],
      "execution_count": 297,
      "outputs": []
    },
    {
      "cell_type": "code",
      "metadata": {
        "id": "UlOoQLd7RwHt"
      },
      "source": [
        "# Now we create the speaker column in our dataframe and set it equal to our speaker list\n",
        "df['speaker'] = speaker"
      ],
      "execution_count": 298,
      "outputs": []
    },
    {
      "cell_type": "code",
      "metadata": {
        "colab": {
          "base_uri": "https://localhost:8080/",
          "height": 204
        },
        "id": "i6AvqS_jRzH6",
        "outputId": "51d1e392-8336-436b-9cfe-3f3812cc4bf2"
      },
      "source": [
        "\n",
        "# Checking that it worked as expected\n",
        "df.head()"
      ],
      "execution_count": 299,
      "outputs": [
        {
          "output_type": "execute_result",
          "data": {
            "text/html": [
              "<div>\n",
              "<style scoped>\n",
              "    .dataframe tbody tr th:only-of-type {\n",
              "        vertical-align: middle;\n",
              "    }\n",
              "\n",
              "    .dataframe tbody tr th {\n",
              "        vertical-align: top;\n",
              "    }\n",
              "\n",
              "    .dataframe thead th {\n",
              "        text-align: right;\n",
              "    }\n",
              "</style>\n",
              "<table border=\"1\" class=\"dataframe\">\n",
              "  <thead>\n",
              "    <tr style=\"text-align: right;\">\n",
              "      <th></th>\n",
              "      <th>file</th>\n",
              "      <th>label</th>\n",
              "      <th>speaker</th>\n",
              "    </tr>\n",
              "  </thead>\n",
              "  <tbody>\n",
              "    <tr>\n",
              "      <th>0</th>\n",
              "      <td>8842-302201-0003.flac</td>\n",
              "      <td>0</td>\n",
              "      <td>8842</td>\n",
              "    </tr>\n",
              "    <tr>\n",
              "      <th>1</th>\n",
              "      <td>8842-302201-0000.flac</td>\n",
              "      <td>0</td>\n",
              "      <td>8842</td>\n",
              "    </tr>\n",
              "    <tr>\n",
              "      <th>2</th>\n",
              "      <td>8842-302201-0001.flac</td>\n",
              "      <td>0</td>\n",
              "      <td>8842</td>\n",
              "    </tr>\n",
              "    <tr>\n",
              "      <th>3</th>\n",
              "      <td>8842-302201-0002.flac</td>\n",
              "      <td>0</td>\n",
              "      <td>8842</td>\n",
              "    </tr>\n",
              "    <tr>\n",
              "      <th>4</th>\n",
              "      <td>8297-275156-0003.flac</td>\n",
              "      <td>0</td>\n",
              "      <td>8297</td>\n",
              "    </tr>\n",
              "  </tbody>\n",
              "</table>\n",
              "</div>"
            ],
            "text/plain": [
              "                    file label speaker\n",
              "0  8842-302201-0003.flac     0    8842\n",
              "1  8842-302201-0000.flac     0    8842\n",
              "2  8842-302201-0001.flac     0    8842\n",
              "3  8842-302201-0002.flac     0    8842\n",
              "4  8297-275156-0003.flac     0    8297"
            ]
          },
          "metadata": {},
          "execution_count": 299
        }
      ]
    },
    {
      "cell_type": "code",
      "metadata": {
        "colab": {
          "base_uri": "https://localhost:8080/"
        },
        "id": "opobtah-R2Ah",
        "outputId": "e5c1afcd-690e-4d8c-9aae-c48c3fed2f8a"
      },
      "source": [
        "# Checking the number of speakers or the number of different people in our voice data\n",
        "df['speaker'].nunique()"
      ],
      "execution_count": 300,
      "outputs": [
        {
          "output_type": "execute_result",
          "data": {
            "text/plain": [
              "2"
            ]
          },
          "metadata": {},
          "execution_count": 300
        }
      ]
    },
    {
      "cell_type": "code",
      "metadata": {
        "id": "RzChokdqR6-q"
      },
      "source": [
        "# Setting our labels to be equal to our speaker list\n",
        "labels = speaker"
      ],
      "execution_count": 301,
      "outputs": []
    },
    {
      "cell_type": "code",
      "metadata": {
        "colab": {
          "base_uri": "https://localhost:8080/"
        },
        "id": "KiJ-nCR7SC0k",
        "outputId": "0b5d8d0c-5664-452c-c444-ae20453324d6"
      },
      "source": [
        "# Checking the size of labels and making sure it matches the size of features\n",
        "len(labels)"
      ],
      "execution_count": 302,
      "outputs": [
        {
          "output_type": "execute_result",
          "data": {
            "text/plain": [
              "69"
            ]
          },
          "metadata": {},
          "execution_count": 302
        }
      ]
    },
    {
      "cell_type": "markdown",
      "metadata": {
        "id": "VBW51fslSIJh"
      },
      "source": [
        "**Checking if we have balanced classes for the whole data**"
      ]
    },
    {
      "cell_type": "code",
      "metadata": {
        "colab": {
          "base_uri": "https://localhost:8080/"
        },
        "id": "uk-KhwrTSE0h",
        "outputId": "b3eff6ba-1153-4662-ba2d-4086c7e3428c"
      },
      "source": [
        "# They look somewhat balanced with a min of 56 and a max of 166, mean of 114 \n",
        "# with standard deviation of 15.89 (calculated from scipy)\n",
        "np.unique(labels, return_counts=True)"
      ],
      "execution_count": 303,
      "outputs": [
        {
          "output_type": "execute_result",
          "data": {
            "text/plain": [
              "(array(['8297', '8842'], dtype='<U4'), array([14, 55]))"
            ]
          },
          "metadata": {},
          "execution_count": 303
        }
      ]
    },
    {
      "cell_type": "markdown",
      "metadata": {
        "id": "xFuaIVKASS-9"
      },
      "source": [
        "**Hot encoding y and pre processing X and y**"
      ]
    },
    {
      "cell_type": "code",
      "metadata": {
        "id": "jMGwTGLpSNE_"
      },
      "source": [
        "X = np.array(features)"
      ],
      "execution_count": 304,
      "outputs": []
    },
    {
      "cell_type": "code",
      "metadata": {
        "id": "thsowgcvSZog"
      },
      "source": [
        "y = np.array(labels)"
      ],
      "execution_count": 305,
      "outputs": []
    },
    {
      "cell_type": "code",
      "metadata": {
        "id": "jMujOP-4ScK0"
      },
      "source": [
        "\n",
        "# Hot encoding y\n",
        "lb = LabelEncoder()\n",
        "y = to_categorical(lb.fit_transform(y))"
      ],
      "execution_count": 306,
      "outputs": []
    },
    {
      "cell_type": "code",
      "metadata": {
        "colab": {
          "base_uri": "https://localhost:8080/"
        },
        "id": "MwBa4frESeo4",
        "outputId": "12a96d84-1d4d-4f50-c0c8-4f15b13e1f0a"
      },
      "source": [
        "X.shape"
      ],
      "execution_count": 307,
      "outputs": [
        {
          "output_type": "execute_result",
          "data": {
            "text/plain": [
              "(69, 193)"
            ]
          },
          "metadata": {},
          "execution_count": 307
        }
      ]
    },
    {
      "cell_type": "code",
      "metadata": {
        "colab": {
          "base_uri": "https://localhost:8080/"
        },
        "id": "hET_dku8SiD0",
        "outputId": "8cad6263-6b2e-4a0e-c96d-4657dda0bf6c"
      },
      "source": [
        "y.shape"
      ],
      "execution_count": 308,
      "outputs": [
        {
          "output_type": "execute_result",
          "data": {
            "text/plain": [
              "(69, 2)"
            ]
          },
          "metadata": {},
          "execution_count": 308
        }
      ]
    },
    {
      "cell_type": "code",
      "metadata": {
        "id": "UF7xy_zHSk7K"
      },
      "source": [
        "\n",
        "# Choosing the first 9188 (70%) files to be our train data\n",
        "# Choosing the next  2625 (20%) files to be our validation data\n",
        "# Choosing the next  1312 (10%) files to be our test never before seen data\n",
        "# This is analogous to a train test split but we add a validation split and we are making\n",
        "# we do not shuffle anything since we are dealing with several time series, we already \n",
        "# checked before that we have balanced classes (analogous to stratify)\n",
        "\n",
        "X_train = X[:48]\n",
        "y_train = y[:48]\n",
        "\n",
        "X_val = X[48:]\n",
        "y_val = y[48:]\n"
      ],
      "execution_count": 309,
      "outputs": []
    },
    {
      "cell_type": "code",
      "metadata": {
        "id": "7Hg0RqdkS_Nk"
      },
      "source": [
        "ss = StandardScaler()\n",
        "X_train = ss.fit_transform(X_train)\n",
        "X_val = ss.transform(X_val)"
      ],
      "execution_count": 310,
      "outputs": []
    },
    {
      "cell_type": "code",
      "metadata": {
        "id": "v34i3KrbTCPv"
      },
      "source": [
        "# Build a simple dense model with early stopping with softmax for categorical classification\n",
        "# We have 115 classes \n",
        "\n",
        "model = Sequential()\n",
        "\n",
        "model.add(Dense(193, input_shape=(193,), activation = 'relu'))\n",
        "model.add(Dropout(0.1))\n",
        "\n",
        "model.add(Dense(128, activation = 'relu'))\n",
        "model.add(Dropout(0.25))  \n",
        "\n",
        "model.add(Dense(128, activation = 'relu'))\n",
        "model.add(Dropout(0.5))    \n",
        "\n",
        "model.add(Dense(2, activation = 'softmax'))\n",
        "\n",
        "model.compile(loss='categorical_crossentropy', metrics=['accuracy'], optimizer='adam')\n",
        "\n",
        "early_stop = EarlyStopping(monitor='val_loss', min_delta=0, patience=100, verbose=1, mode='auto')"
      ],
      "execution_count": 311,
      "outputs": []
    },
    {
      "cell_type": "code",
      "metadata": {
        "colab": {
          "base_uri": "https://localhost:8080/"
        },
        "id": "GVBj5vjQTbWF",
        "outputId": "2b654719-7a62-43a3-9a28-e1251b32aae7"
      },
      "source": [
        "\n",
        "# fitting the model with the train data and validation with the validation data\n",
        "# we used early stop with patience 100 because we did not want to use early stop\n",
        "# I leave the early stop regularization code in case anyone wants to use it\n",
        "\n",
        "history = model.fit(X_train, y_train, batch_size=256, epochs=100, \n",
        "                    validation_data=(X_val, y_val),\n",
        "                    callbacks=[early_stop])"
      ],
      "execution_count": 312,
      "outputs": [
        {
          "output_type": "stream",
          "name": "stdout",
          "text": [
            "Epoch 1/100\n",
            "1/1 [==============================] - 1s 579ms/step - loss: 0.7829 - accuracy: 0.6250 - val_loss: 0.1646 - val_accuracy: 1.0000\n",
            "Epoch 2/100\n",
            "1/1 [==============================] - 0s 19ms/step - loss: 0.5183 - accuracy: 0.7917 - val_loss: 0.1548 - val_accuracy: 1.0000\n",
            "Epoch 3/100\n",
            "1/1 [==============================] - 0s 20ms/step - loss: 0.3814 - accuracy: 0.8750 - val_loss: 0.1519 - val_accuracy: 1.0000\n",
            "Epoch 4/100\n",
            "1/1 [==============================] - 0s 20ms/step - loss: 0.3264 - accuracy: 0.8750 - val_loss: 0.1768 - val_accuracy: 1.0000\n",
            "Epoch 5/100\n",
            "1/1 [==============================] - 0s 18ms/step - loss: 0.1957 - accuracy: 0.9583 - val_loss: 0.2022 - val_accuracy: 0.9524\n",
            "Epoch 6/100\n",
            "1/1 [==============================] - 0s 18ms/step - loss: 0.1548 - accuracy: 0.9583 - val_loss: 0.2237 - val_accuracy: 0.9048\n",
            "Epoch 7/100\n",
            "1/1 [==============================] - 0s 22ms/step - loss: 0.0618 - accuracy: 1.0000 - val_loss: 0.2513 - val_accuracy: 0.9048\n",
            "Epoch 8/100\n",
            "1/1 [==============================] - 0s 22ms/step - loss: 0.0623 - accuracy: 1.0000 - val_loss: 0.2878 - val_accuracy: 0.9048\n",
            "Epoch 9/100\n",
            "1/1 [==============================] - 0s 24ms/step - loss: 0.0325 - accuracy: 1.0000 - val_loss: 0.3346 - val_accuracy: 0.8095\n",
            "Epoch 10/100\n",
            "1/1 [==============================] - 0s 21ms/step - loss: 0.0383 - accuracy: 1.0000 - val_loss: 0.3640 - val_accuracy: 0.8095\n",
            "Epoch 11/100\n",
            "1/1 [==============================] - 0s 18ms/step - loss: 0.0189 - accuracy: 1.0000 - val_loss: 0.3976 - val_accuracy: 0.8095\n",
            "Epoch 12/100\n",
            "1/1 [==============================] - 0s 22ms/step - loss: 0.0133 - accuracy: 1.0000 - val_loss: 0.4346 - val_accuracy: 0.8095\n",
            "Epoch 13/100\n",
            "1/1 [==============================] - 0s 19ms/step - loss: 0.0102 - accuracy: 1.0000 - val_loss: 0.4699 - val_accuracy: 0.8095\n",
            "Epoch 14/100\n",
            "1/1 [==============================] - 0s 24ms/step - loss: 0.0040 - accuracy: 1.0000 - val_loss: 0.5052 - val_accuracy: 0.8095\n",
            "Epoch 15/100\n",
            "1/1 [==============================] - 0s 24ms/step - loss: 0.0021 - accuracy: 1.0000 - val_loss: 0.5403 - val_accuracy: 0.8095\n",
            "Epoch 16/100\n",
            "1/1 [==============================] - 0s 21ms/step - loss: 0.0028 - accuracy: 1.0000 - val_loss: 0.5729 - val_accuracy: 0.8095\n",
            "Epoch 17/100\n",
            "1/1 [==============================] - 0s 22ms/step - loss: 0.0056 - accuracy: 1.0000 - val_loss: 0.5464 - val_accuracy: 0.8095\n",
            "Epoch 18/100\n",
            "1/1 [==============================] - 0s 20ms/step - loss: 0.0018 - accuracy: 1.0000 - val_loss: 0.5217 - val_accuracy: 0.8095\n",
            "Epoch 19/100\n",
            "1/1 [==============================] - 0s 21ms/step - loss: 0.0011 - accuracy: 1.0000 - val_loss: 0.4968 - val_accuracy: 0.8095\n",
            "Epoch 20/100\n",
            "1/1 [==============================] - 0s 21ms/step - loss: 0.0010 - accuracy: 1.0000 - val_loss: 0.4731 - val_accuracy: 0.8095\n",
            "Epoch 21/100\n",
            "1/1 [==============================] - 0s 19ms/step - loss: 0.0011 - accuracy: 1.0000 - val_loss: 0.4518 - val_accuracy: 0.8095\n",
            "Epoch 22/100\n",
            "1/1 [==============================] - 0s 33ms/step - loss: 2.9936e-04 - accuracy: 1.0000 - val_loss: 0.4325 - val_accuracy: 0.8095\n",
            "Epoch 23/100\n",
            "1/1 [==============================] - 0s 26ms/step - loss: 0.0028 - accuracy: 1.0000 - val_loss: 0.4180 - val_accuracy: 0.8095\n",
            "Epoch 24/100\n",
            "1/1 [==============================] - 0s 22ms/step - loss: 5.6411e-04 - accuracy: 1.0000 - val_loss: 0.4056 - val_accuracy: 0.8571\n",
            "Epoch 25/100\n",
            "1/1 [==============================] - 0s 22ms/step - loss: 8.6215e-04 - accuracy: 1.0000 - val_loss: 0.3953 - val_accuracy: 0.8571\n",
            "Epoch 26/100\n",
            "1/1 [==============================] - 0s 21ms/step - loss: 3.3060e-04 - accuracy: 1.0000 - val_loss: 0.3868 - val_accuracy: 0.8571\n",
            "Epoch 27/100\n",
            "1/1 [==============================] - 0s 25ms/step - loss: 2.1465e-04 - accuracy: 1.0000 - val_loss: 0.3798 - val_accuracy: 0.8571\n",
            "Epoch 28/100\n",
            "1/1 [==============================] - 0s 19ms/step - loss: 5.8198e-04 - accuracy: 1.0000 - val_loss: 0.3744 - val_accuracy: 0.8571\n",
            "Epoch 29/100\n",
            "1/1 [==============================] - 0s 33ms/step - loss: 0.0011 - accuracy: 1.0000 - val_loss: 0.3630 - val_accuracy: 0.8571\n",
            "Epoch 30/100\n",
            "1/1 [==============================] - 0s 27ms/step - loss: 5.5894e-04 - accuracy: 1.0000 - val_loss: 0.3539 - val_accuracy: 0.8571\n",
            "Epoch 31/100\n",
            "1/1 [==============================] - 0s 18ms/step - loss: 8.4741e-04 - accuracy: 1.0000 - val_loss: 0.3469 - val_accuracy: 0.9048\n",
            "Epoch 32/100\n",
            "1/1 [==============================] - 0s 22ms/step - loss: 1.7696e-04 - accuracy: 1.0000 - val_loss: 0.3406 - val_accuracy: 0.9048\n",
            "Epoch 33/100\n",
            "1/1 [==============================] - 0s 23ms/step - loss: 3.6802e-04 - accuracy: 1.0000 - val_loss: 0.3358 - val_accuracy: 0.9048\n",
            "Epoch 34/100\n",
            "1/1 [==============================] - 0s 26ms/step - loss: 4.3210e-04 - accuracy: 1.0000 - val_loss: 0.3326 - val_accuracy: 0.9048\n",
            "Epoch 35/100\n",
            "1/1 [==============================] - 0s 38ms/step - loss: 7.1168e-05 - accuracy: 1.0000 - val_loss: 0.3297 - val_accuracy: 0.9048\n",
            "Epoch 36/100\n",
            "1/1 [==============================] - 0s 39ms/step - loss: 1.0656e-04 - accuracy: 1.0000 - val_loss: 0.3273 - val_accuracy: 0.9048\n",
            "Epoch 37/100\n",
            "1/1 [==============================] - 0s 22ms/step - loss: 1.0646e-04 - accuracy: 1.0000 - val_loss: 0.3253 - val_accuracy: 0.9048\n",
            "Epoch 38/100\n",
            "1/1 [==============================] - 0s 19ms/step - loss: 2.1851e-04 - accuracy: 1.0000 - val_loss: 0.3236 - val_accuracy: 0.9048\n",
            "Epoch 39/100\n",
            "1/1 [==============================] - 0s 21ms/step - loss: 2.5123e-04 - accuracy: 1.0000 - val_loss: 0.3221 - val_accuracy: 0.9048\n",
            "Epoch 40/100\n",
            "1/1 [==============================] - 0s 19ms/step - loss: 8.4818e-04 - accuracy: 1.0000 - val_loss: 0.3216 - val_accuracy: 0.9048\n",
            "Epoch 41/100\n",
            "1/1 [==============================] - 0s 21ms/step - loss: 1.7731e-05 - accuracy: 1.0000 - val_loss: 0.3211 - val_accuracy: 0.9048\n",
            "Epoch 42/100\n",
            "1/1 [==============================] - 0s 29ms/step - loss: 1.4639e-04 - accuracy: 1.0000 - val_loss: 0.3206 - val_accuracy: 0.9048\n",
            "Epoch 43/100\n",
            "1/1 [==============================] - 0s 21ms/step - loss: 2.1809e-04 - accuracy: 1.0000 - val_loss: 0.3203 - val_accuracy: 0.9048\n",
            "Epoch 44/100\n",
            "1/1 [==============================] - 0s 23ms/step - loss: 0.0011 - accuracy: 1.0000 - val_loss: 0.3207 - val_accuracy: 0.9048\n",
            "Epoch 45/100\n",
            "1/1 [==============================] - 0s 24ms/step - loss: 4.0931e-04 - accuracy: 1.0000 - val_loss: 0.3217 - val_accuracy: 0.9048\n",
            "Epoch 46/100\n",
            "1/1 [==============================] - 0s 23ms/step - loss: 3.7470e-05 - accuracy: 1.0000 - val_loss: 0.3226 - val_accuracy: 0.9048\n",
            "Epoch 47/100\n",
            "1/1 [==============================] - 0s 24ms/step - loss: 1.4805e-04 - accuracy: 1.0000 - val_loss: 0.3237 - val_accuracy: 0.9048\n",
            "Epoch 48/100\n",
            "1/1 [==============================] - 0s 24ms/step - loss: 3.5707e-05 - accuracy: 1.0000 - val_loss: 0.3248 - val_accuracy: 0.9048\n",
            "Epoch 49/100\n",
            "1/1 [==============================] - 0s 23ms/step - loss: 3.4561e-04 - accuracy: 1.0000 - val_loss: 0.3260 - val_accuracy: 0.9048\n",
            "Epoch 50/100\n",
            "1/1 [==============================] - 0s 20ms/step - loss: 4.8870e-05 - accuracy: 1.0000 - val_loss: 0.3269 - val_accuracy: 0.9048\n",
            "Epoch 51/100\n",
            "1/1 [==============================] - 0s 21ms/step - loss: 2.6135e-05 - accuracy: 1.0000 - val_loss: 0.3276 - val_accuracy: 0.9048\n",
            "Epoch 52/100\n",
            "1/1 [==============================] - 0s 22ms/step - loss: 2.4086e-04 - accuracy: 1.0000 - val_loss: 0.3282 - val_accuracy: 0.9048\n",
            "Epoch 53/100\n",
            "1/1 [==============================] - 0s 23ms/step - loss: 3.8827e-05 - accuracy: 1.0000 - val_loss: 0.3289 - val_accuracy: 0.9048\n",
            "Epoch 54/100\n",
            "1/1 [==============================] - 0s 26ms/step - loss: 3.1391e-05 - accuracy: 1.0000 - val_loss: 0.3295 - val_accuracy: 0.9048\n",
            "Epoch 55/100\n",
            "1/1 [==============================] - 0s 27ms/step - loss: 1.1258e-04 - accuracy: 1.0000 - val_loss: 0.3298 - val_accuracy: 0.9048\n",
            "Epoch 56/100\n",
            "1/1 [==============================] - 0s 20ms/step - loss: 1.2841e-04 - accuracy: 1.0000 - val_loss: 0.3301 - val_accuracy: 0.9048\n",
            "Epoch 57/100\n",
            "1/1 [==============================] - 0s 20ms/step - loss: 6.5706e-05 - accuracy: 1.0000 - val_loss: 0.3299 - val_accuracy: 0.9048\n",
            "Epoch 58/100\n",
            "1/1 [==============================] - 0s 21ms/step - loss: 1.2770e-04 - accuracy: 1.0000 - val_loss: 0.3301 - val_accuracy: 0.9048\n",
            "Epoch 59/100\n",
            "1/1 [==============================] - 0s 19ms/step - loss: 1.1315e-04 - accuracy: 1.0000 - val_loss: 0.3303 - val_accuracy: 0.9048\n",
            "Epoch 60/100\n",
            "1/1 [==============================] - 0s 21ms/step - loss: 2.8973e-05 - accuracy: 1.0000 - val_loss: 0.3304 - val_accuracy: 0.9048\n",
            "Epoch 61/100\n",
            "1/1 [==============================] - 0s 24ms/step - loss: 1.6686e-04 - accuracy: 1.0000 - val_loss: 0.3305 - val_accuracy: 0.9048\n",
            "Epoch 62/100\n",
            "1/1 [==============================] - 0s 26ms/step - loss: 1.6821e-04 - accuracy: 1.0000 - val_loss: 0.3309 - val_accuracy: 0.9048\n",
            "Epoch 63/100\n",
            "1/1 [==============================] - 0s 24ms/step - loss: 4.1357e-05 - accuracy: 1.0000 - val_loss: 0.3313 - val_accuracy: 0.9048\n",
            "Epoch 64/100\n",
            "1/1 [==============================] - 0s 22ms/step - loss: 9.9730e-06 - accuracy: 1.0000 - val_loss: 0.3317 - val_accuracy: 0.9048\n",
            "Epoch 65/100\n",
            "1/1 [==============================] - 0s 20ms/step - loss: 8.6521e-06 - accuracy: 1.0000 - val_loss: 0.3320 - val_accuracy: 0.9048\n",
            "Epoch 66/100\n",
            "1/1 [==============================] - 0s 28ms/step - loss: 5.5618e-05 - accuracy: 1.0000 - val_loss: 0.3323 - val_accuracy: 0.9048\n",
            "Epoch 67/100\n",
            "1/1 [==============================] - 0s 19ms/step - loss: 2.1799e-04 - accuracy: 1.0000 - val_loss: 0.3334 - val_accuracy: 0.9048\n",
            "Epoch 68/100\n",
            "1/1 [==============================] - 0s 23ms/step - loss: 4.6691e-05 - accuracy: 1.0000 - val_loss: 0.3344 - val_accuracy: 0.9048\n",
            "Epoch 69/100\n",
            "1/1 [==============================] - 0s 25ms/step - loss: 5.1241e-04 - accuracy: 1.0000 - val_loss: 0.3312 - val_accuracy: 0.9048\n",
            "Epoch 70/100\n",
            "1/1 [==============================] - 0s 21ms/step - loss: 1.0352e-04 - accuracy: 1.0000 - val_loss: 0.3287 - val_accuracy: 0.9048\n",
            "Epoch 71/100\n",
            "1/1 [==============================] - 0s 29ms/step - loss: 7.1070e-05 - accuracy: 1.0000 - val_loss: 0.3264 - val_accuracy: 0.9048\n",
            "Epoch 72/100\n",
            "1/1 [==============================] - 0s 25ms/step - loss: 5.6751e-04 - accuracy: 1.0000 - val_loss: 0.3255 - val_accuracy: 0.9048\n",
            "Epoch 73/100\n",
            "1/1 [==============================] - 0s 21ms/step - loss: 1.1194e-04 - accuracy: 1.0000 - val_loss: 0.3250 - val_accuracy: 0.9048\n",
            "Epoch 74/100\n",
            "1/1 [==============================] - 0s 24ms/step - loss: 3.8573e-04 - accuracy: 1.0000 - val_loss: 0.3242 - val_accuracy: 0.9048\n",
            "Epoch 75/100\n",
            "1/1 [==============================] - 0s 24ms/step - loss: 6.0283e-05 - accuracy: 1.0000 - val_loss: 0.3235 - val_accuracy: 0.9048\n",
            "Epoch 76/100\n",
            "1/1 [==============================] - 0s 23ms/step - loss: 1.0374e-04 - accuracy: 1.0000 - val_loss: 0.3231 - val_accuracy: 0.9048\n",
            "Epoch 77/100\n",
            "1/1 [==============================] - 0s 24ms/step - loss: 5.2674e-05 - accuracy: 1.0000 - val_loss: 0.3227 - val_accuracy: 0.9048\n",
            "Epoch 78/100\n",
            "1/1 [==============================] - 0s 24ms/step - loss: 4.3137e-05 - accuracy: 1.0000 - val_loss: 0.3224 - val_accuracy: 0.9048\n",
            "Epoch 79/100\n",
            "1/1 [==============================] - 0s 22ms/step - loss: 7.5550e-05 - accuracy: 1.0000 - val_loss: 0.3222 - val_accuracy: 0.9048\n",
            "Epoch 80/100\n",
            "1/1 [==============================] - 0s 28ms/step - loss: 2.6997e-04 - accuracy: 1.0000 - val_loss: 0.3225 - val_accuracy: 0.9048\n",
            "Epoch 81/100\n",
            "1/1 [==============================] - 0s 28ms/step - loss: 5.6445e-05 - accuracy: 1.0000 - val_loss: 0.3228 - val_accuracy: 0.9048\n",
            "Epoch 82/100\n",
            "1/1 [==============================] - 0s 22ms/step - loss: 4.1464e-05 - accuracy: 1.0000 - val_loss: 0.3232 - val_accuracy: 0.9048\n",
            "Epoch 83/100\n",
            "1/1 [==============================] - 0s 19ms/step - loss: 2.3373e-04 - accuracy: 1.0000 - val_loss: 0.3238 - val_accuracy: 0.9048\n",
            "Epoch 84/100\n",
            "1/1 [==============================] - 0s 20ms/step - loss: 2.3355e-05 - accuracy: 1.0000 - val_loss: 0.3244 - val_accuracy: 0.9048\n",
            "Epoch 85/100\n",
            "1/1 [==============================] - 0s 21ms/step - loss: 1.3318e-05 - accuracy: 1.0000 - val_loss: 0.3250 - val_accuracy: 0.9048\n",
            "Epoch 86/100\n",
            "1/1 [==============================] - 0s 20ms/step - loss: 1.3397e-04 - accuracy: 1.0000 - val_loss: 0.3255 - val_accuracy: 0.9048\n",
            "Epoch 87/100\n",
            "1/1 [==============================] - 0s 21ms/step - loss: 2.1678e-05 - accuracy: 1.0000 - val_loss: 0.3260 - val_accuracy: 0.9048\n",
            "Epoch 88/100\n",
            "1/1 [==============================] - 0s 24ms/step - loss: 1.4991e-04 - accuracy: 1.0000 - val_loss: 0.3267 - val_accuracy: 0.9048\n",
            "Epoch 89/100\n",
            "1/1 [==============================] - 0s 24ms/step - loss: 6.4935e-05 - accuracy: 1.0000 - val_loss: 0.3271 - val_accuracy: 0.9048\n",
            "Epoch 90/100\n",
            "1/1 [==============================] - 0s 25ms/step - loss: 4.0073e-05 - accuracy: 1.0000 - val_loss: 0.3276 - val_accuracy: 0.9048\n",
            "Epoch 91/100\n",
            "1/1 [==============================] - 0s 28ms/step - loss: 5.6938e-05 - accuracy: 1.0000 - val_loss: 0.3280 - val_accuracy: 0.9048\n",
            "Epoch 92/100\n",
            "1/1 [==============================] - 0s 30ms/step - loss: 4.7449e-05 - accuracy: 1.0000 - val_loss: 0.3285 - val_accuracy: 0.9048\n",
            "Epoch 93/100\n",
            "1/1 [==============================] - 0s 24ms/step - loss: 2.0192e-04 - accuracy: 1.0000 - val_loss: 0.3289 - val_accuracy: 0.9048\n",
            "Epoch 94/100\n",
            "1/1 [==============================] - 0s 22ms/step - loss: 1.1285e-05 - accuracy: 1.0000 - val_loss: 0.3293 - val_accuracy: 0.9048\n",
            "Epoch 95/100\n",
            "1/1 [==============================] - 0s 26ms/step - loss: 9.6346e-04 - accuracy: 1.0000 - val_loss: 0.3305 - val_accuracy: 0.9048\n",
            "Epoch 96/100\n",
            "1/1 [==============================] - 0s 25ms/step - loss: 1.1073e-05 - accuracy: 1.0000 - val_loss: 0.3315 - val_accuracy: 0.9048\n",
            "Epoch 97/100\n",
            "1/1 [==============================] - 0s 28ms/step - loss: 3.4667e-05 - accuracy: 1.0000 - val_loss: 0.3325 - val_accuracy: 0.9048\n",
            "Epoch 98/100\n",
            "1/1 [==============================] - 0s 21ms/step - loss: 2.7409e-05 - accuracy: 1.0000 - val_loss: 0.3333 - val_accuracy: 0.9048\n",
            "Epoch 99/100\n",
            "1/1 [==============================] - 0s 30ms/step - loss: 1.2218e-04 - accuracy: 1.0000 - val_loss: 0.3342 - val_accuracy: 0.9048\n",
            "Epoch 100/100\n",
            "1/1 [==============================] - 0s 23ms/step - loss: 5.9289e-05 - accuracy: 1.0000 - val_loss: 0.3350 - val_accuracy: 0.9048\n"
          ]
        }
      ]
    },
    {
      "cell_type": "code",
      "metadata": {
        "colab": {
          "base_uri": "https://localhost:8080/",
          "height": 530
        },
        "id": "UgLydpbgTfso",
        "outputId": "06df69ec-f941-4db7-a550-f46f8e9a4b4b"
      },
      "source": [
        "# Check out our train accuracy and validation accuracy over epochs.\n",
        "import matplotlib.pyplot as plt\n",
        "train_accuracy = history.history['accuracy']\n",
        "val_accuracy = history.history['val_accuracy']\n",
        "\n",
        "# Set figure size.\n",
        "plt.figure(figsize=(12, 8))\n",
        "\n",
        "# Generate line plot of training, testing loss over epochs.\n",
        "plt.plot(train_accuracy, label='Training Accuracy', color='#185fad')\n",
        "plt.plot(val_accuracy, label='Validation Accuracy', color='orange')\n",
        "\n",
        "# Set title\n",
        "plt.title('Training and Validation Accuracy by Epoch', fontsize = 25)\n",
        "plt.xlabel('Epoch', fontsize = 18)\n",
        "plt.ylabel('Categorical Crossentropy', fontsize = 18)\n",
        "plt.xticks(range(0,100,5), range(0,100,5))\n",
        "\n",
        "plt.legend(fontsize = 18);"
      ],
      "execution_count": 313,
      "outputs": [
        {
          "output_type": "display_data",
          "data": {
            "image/png": "[encoded data removed]",
            "text/plain": [
              "<Figure size 864x576 with 1 Axes>"
            ]
          },
          "metadata": {
            "needs_background": "light"
          }
        }
      ]
    }
  ]
}